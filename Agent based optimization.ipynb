{
 "cells": [
  {
   "cell_type": "markdown",
   "id": "8110efb9",
   "metadata": {},
   "source": [
    "# Abstract"
   ]
  },
  {
   "cell_type": "markdown",
   "id": "5db2b383",
   "metadata": {},
   "source": [
    "Let $X$ be a countable metric space, equipped with a distance $d : X \\times X \\rightarrow \\mathbb R_+$<br>\n",
    "Let $\\{ \\phi_i \\}_i$ the family of functions that given in input a $x \\in X$ return the $i-$th neighbor in an apriori enumeration of $\\mathcal N(x)$\n",
    "\n",
    "Let $f : X \\rightarrow \\mathbb R$ the cost function, that we aim to minimize, such that <b> it's computationally intensive to evaluate </b> <br>\n",
    "Let $g : X \\rightarrow \\mathbb R$ the \"hint function\", which is <b>computationally cheap to evaluate</b><br>\n",
    "Let $f,g$ \"sufficiently regular\" that is , given a $x \\in X$ and its neighbourhood $\\mathcal N(x)$ it is possible to learn a map $g(\\mathcal N(x)) \\mapsto f(\\mathcal(N(x))$<br>\n",
    "Suppose to have an agent $G$ and an agent $L$.<br>\n",
    "They <b> cooperate </b> in order to solve the following optimization problem<br>\n",
    "<center>\n",
    "$\n",
    "\\text{Find } x^* \\in X : f(x^*) \\text{ minimum}\n",
    "$<br>\n",
    "$\n",
    "x^* \\text{\"near\"} x_0\n",
    "$\n",
    "</center>\n",
    "<b> minimizing the number of evaluations of the \"costly cost function \" $f$ </b>\n"
   ]
  },
  {
   "cell_type": "markdown",
   "id": "1de6f007",
   "metadata": {},
   "source": [
    "In other terms, we aim for the <b>local minimum</b> which is nearest to $x_0$"
   ]
  },
  {
   "cell_type": "markdown",
   "id": "e36b16e1",
   "metadata": {},
   "source": [
    "# Monoagent version"
   ]
  },
  {
   "cell_type": "markdown",
   "id": "f9284342",
   "metadata": {},
   "source": [
    "The pseudocode in the <b>greedy descent</b> can be modeled as follow"
   ]
  },
  {
   "cell_type": "markdown",
   "id": "188cf503",
   "metadata": {},
   "source": [
    "$choice \\sim \\mathcal U[\\text{#neighbors}]$<br>\n",
    "$\\textbf{repeat}$<br>\n",
    "$\\hspace 2em x_{\\text{new}} \\leftarrow \\phi_{choice}\\left(x\\right)$<br>\n",
    "$\\hspace 2em \\textbf{if } f(x_{new}) \\le f(x)$<br>\n",
    "$\\hspace 4em x \\leftarrow x_{new}$"
   ]
  },
  {
   "cell_type": "markdown",
   "id": "a662baf3",
   "metadata": {},
   "source": [
    "# Cooperation\n",
    "\n",
    "$L$ is the <b> learner </b> agent ; it has the role to learn <b> the most likely mapping between cheap and costly function</b><br>\n",
    "Given an information set $\\{I_y\\}_{y \\in \\mathcal N(x)}$ it produces a <b> Probability Distribution</b> $\\mathcal Q_{\\mathcal N(x)}$ over the neighbourhood<br>\n",
    "$G$ has the role of <b>modulating the trust wrt $L$</b> : how much the information that $L$ provides is useful to optimize?\n",
    "\n",
    "Let $D(\\eta, \\mathcal D_1, \\mathcal D_2)$ a function that given two probability distributions produces an \"homotopy\" with param $\\eta$"
   ]
  },
  {
   "cell_type": "markdown",
   "id": "34a3e12b",
   "metadata": {},
   "source": [
    "\n",
    "$\\textbf{repeat}$<br>\n",
    "$\\hspace 2em \\mathcal P \\leftarrow L (\\{I_y\\}_{y \\in \\mathcal N(x)})$ // learner analyzes the context<br>\n",
    "$\\hspace 2em choice \\sim D(\\eta, \\mathcal U, \\mathcal P)$<br>\n",
    "$\\hspace 2em x_{\\text{new}} \\leftarrow \\phi_{choice}\\left(x\\right)$<br>\n",
    "$\\hspace 2em \\textbf{if } f(x_{new}) \\le f(x)$<br>\n",
    "$\\hspace 4em x \\leftarrow x_{new}$ <br>\n",
    "$\\hspace 4em \\eta \\leftarrow 1.1 \\eta$<br>\n",
    "$\\hspace 2em \\textbf{else}$<br>\n",
    "$\\hspace 4em \\eta \\leftarrow 0.9 \\eta$ <Br>\n",
    "$\\hspace 2em L.learn(\\{I_x\\}, f(x))$<br>\n"
   ]
  },
  {
   "cell_type": "markdown",
   "id": "51eba214",
   "metadata": {},
   "source": [
    "# Code"
   ]
  },
  {
   "cell_type": "code",
   "execution_count": null,
   "id": "0950496c",
   "metadata": {},
   "outputs": [],
   "source": []
  }
 ],
 "metadata": {
  "kernelspec": {
   "display_name": "Python 3 (ipykernel)",
   "language": "python",
   "name": "python3"
  },
  "language_info": {
   "codemirror_mode": {
    "name": "ipython",
    "version": 3
   },
   "file_extension": ".py",
   "mimetype": "text/x-python",
   "name": "python",
   "nbconvert_exporter": "python",
   "pygments_lexer": "ipython3",
   "version": "3.9.7"
  }
 },
 "nbformat": 4,
 "nbformat_minor": 5
}
