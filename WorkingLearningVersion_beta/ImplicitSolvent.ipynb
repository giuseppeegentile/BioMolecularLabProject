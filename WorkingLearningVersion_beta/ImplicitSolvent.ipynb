{
 "cells": [
  {
   "cell_type": "markdown",
   "id": "ed23cff7",
   "metadata": {},
   "source": [
    "# $\\mathscr I$ space\n",
    "Space that models the information packet associated with a protein"
   ]
  },
  {
   "cell_type": "code",
   "execution_count": 40,
   "id": "bb4db61b",
   "metadata": {},
   "outputs": [],
   "source": [
    "class Information:\n",
    "    def __init__(self, tupla):\n",
    "        self.tupla = tupla\n",
    "        \n",
    "    def print():\n",
    "        print(self.tupla)\n",
    "        \n",
    "    def vectorize():\n",
    "        return np.array(self.tupla)   "
   ]
  },
  {
   "cell_type": "markdown",
   "id": "e2ef3938",
   "metadata": {},
   "source": [
    "# $\\mathscr M$ set\n",
    "OOP description of the set of possible mutations"
   ]
  },
  {
   "cell_type": "code",
   "execution_count": 41,
   "id": "ce721f04",
   "metadata": {},
   "outputs": [],
   "source": [
    "class Mutation:\n",
    "    def __init__(self, descriptor):\n",
    "        self.descriptor = descriptor"
   ]
  },
  {
   "cell_type": "markdown",
   "id": "d5d6da4e",
   "metadata": {},
   "source": [
    "# $\\mathscr P$ space\n",
    "OOP description of the space of proteins\n",
    "<center><h1><b>Content (functions acting on $\\mathscr P$)</b></h1></center>\n",
    "<ul>\n",
    "    <li><code>compute_q_value</code> : $\\mathscr P \\rightarrow \\mathbb R_+$</li>\n",
    "    computes the <i>q value</i> of the protein, performing the simulation. The result is then stored into the variable         <code>q_value</code>\n",
    "    <li><code>mutate</code> : $\\mathscr P \\times \\mathscr M \\rightarrow \\mathscr P$</li>\n",
    "    produce a new protein, starting from the current one and the mutation requested\n",
    "    <li><code>information_neighbors</code> : $\\mathscr p \\mapsto \\{ (\\mathscr q,I_{\\mathscr q}) \\}_{\\mathscr q \\in \\mathcal N(\\mathscr p)}$ </li>\n",
    "    returns a mapping that associates each neighbor on the <i>protein lattice</i> with an information packet in the set $\\mathscr I$\n",
    "</ul>"
   ]
  },
  {
   "cell_type": "markdown",
   "id": "959adf0f",
   "metadata": {},
   "source": [
    "# V2: using BuildModel for mutations"
   ]
  },
  {
   "cell_type": "code",
   "execution_count": 42,
   "id": "89e4cf24",
   "metadata": {},
   "outputs": [],
   "source": [
    "import os\n",
    "import pandas as pd\n",
    "import subprocess\n",
    "class Protein:\n",
    "    instances = 0\n",
    "    \n",
    "    def __init__(self, filename):\n",
    "        self.filename = filename\n",
    "        self.q_value  = None                               # unitialized q value\n",
    "        # set of available_mutations\n",
    "    def build_neighbors_on_mutation_lattice(self, threshold): # build the lattices based on the ALA threshold's Gibbs free energy\n",
    "        # generate config file with possible mutations for the current protein\n",
    "        os.system(\"python3 mutation_generator.py \" + self.filename + \" \" + str(threshold))\n",
    "        # Protein.instances += 1 ## questo sarebbe da gestire in un altro modo\n",
    "\n",
    "        # mutate the protein \n",
    "        print(\"Generating  mutated pdbs...\")\n",
    "        msg = subprocess.run([\"foldx_20231231 --command=BuildModel --pdb=\" + (self.filename) + \" --mutant-file=individual_list.txt > mutation_output.txt\"], shell = True)\n",
    " \n",
    "        print(msg)\n",
    "        return self\n",
    "\n",
    "    def build_information_tables(self):\n",
    "        os.system(\"mv Dif_*.fxout mutation.csv\") # use the csv format instead of the one of foldx\n",
    "        X = pd.read_csv(\"mutation.csv\", sep='\\t',skiprows=8).to_numpy()\n",
    "        # information packet\n",
    "        I = X[:,2:21]\n",
    "\n",
    "        # mutations\n",
    "        M = X[:,0] + \".pdb\" # add the suffix for the pdb type, used for the simulation name\n",
    "        \n",
    "        I = I.astype(float)\n",
    "        return M,I\n",
    "    \n",
    "    def compute_q_value(self):      # note: this is a batch, run always this scripts as a whole    \n",
    "        print(\"-----------------------------------Protein %s         -----------------------------------\" %self.filename[:-4])\n",
    "        print(\"Ionizing the structure for the simulation...\")\n",
    "        subprocess.run([\"python3 protein_ionization.py \" + self.filename], shell=True, stdout = subprocess.DEVNULL)\n",
    "        \n",
    "        print(\"Running the simulation...\")\n",
    "        subprocess.run([\"python3 launch_simulation.py \" + self.filename ], shell=True, stdout = subprocess.DEVNULL)\n",
    "        print(\"Computing the Q-value...\")\n",
    "        proc = subprocess.run([\"python3 evaluate_qvalue.py \" + self.filename ], shell=True, stdout = subprocess.PIPE)\n",
    "        #print(proc.stdout)\n",
    "        self.q_value = float(proc.stdout)\n",
    "        print(self.q_value)"
   ]
  },
  {
   "cell_type": "markdown",
   "id": "4aeace61",
   "metadata": {},
   "source": [
    "# Learner\n",
    "Agent able to learn from experience"
   ]
  },
  {
   "cell_type": "code",
   "execution_count": 43,
   "id": "a256d3ea",
   "metadata": {},
   "outputs": [],
   "source": [
    "import numpy as np\n",
    "class Learner:\n",
    "    def __init__(self, data_collection = 2):\n",
    "        self.X               = np.array([])\n",
    "        self.Y               = np.array([])\n",
    "        self.data_collection = data_collection\n",
    "    def learn(self,x,y):\n",
    "        if len(self.X) == 0:\n",
    "            # first entry\n",
    "            self.X = (x * 1)[None,:]\n",
    "            self.Y = y * 1\n",
    "        else:\n",
    "            self.X = np.r_[self.X,x[None,:]]\n",
    "            self.Y = np.r_[self.Y,y]\n",
    "            self.X = self.X[-100:]\n",
    "            self.Y = self.Y[-100:]\n",
    "        #print(\"I know %d things\" % self.X.shape[0] )\n",
    "    def predict(self,x):\n",
    "        # prediction function...\n",
    "        if len(self.X) < self.data_collection:                    # if i have not enough data\n",
    "            print(\"Learner : sto sparando a caso\")\n",
    "            return np.random.randn(len(x))\n",
    "        else:\n",
    "                print(\"Learner : sto ragionando\")\n",
    "\n",
    "                print(\"input = \" ,x.shape)\n",
    "                print(\"X.shape\\t\",self.X.shape)\n",
    "                print(\"Y.shape\\t\",self.Y.shape)\n",
    "            \n",
    "                k       = lambda x,y : (1 + x@y)**2 #np.exp( - (x - y)@(x - y) )\n",
    "            \n",
    "                K_train = np.array([\n",
    "                    [\n",
    "                            k(a,b)\n",
    "                        for b in self.X\n",
    "                    ]\n",
    "                    for a in self.X\n",
    "                ])\n",
    "                K_in    = np.array([\n",
    "                    [\n",
    "                            k(a,b)\n",
    "                        for b in self.X\n",
    "                    ]\n",
    "                    for a in x\n",
    "                ])\n",
    "                return K_in @ np.linalg.solve( K_train + 1e-3 * np.eye(len(K_train)), self.Y)"
   ]
  },
  {
   "cell_type": "markdown",
   "id": "3bc11f31",
   "metadata": {},
   "source": [
    "# Guide\n",
    "Agent who drives the configuration exploration, modulating the trust wrt the Learner"
   ]
  },
  {
   "cell_type": "code",
   "execution_count": 44,
   "id": "30ccda2f",
   "metadata": {},
   "outputs": [],
   "source": [
    "class Guide:\n",
    "    def __init__(self):\n",
    "        self.eta = 5.\n",
    "        \n",
    "    def trust(self):\n",
    "        print(\"Guida dice : Costruisco fiducia nel Learner\")\n",
    "        if self.eta < 50:\n",
    "            self.eta *= 1.1          # if I build trust, the \"confidence in the learner\" increase\n",
    "        \n",
    "    def untrust(self):\n",
    "        print(\"Guida dice : Perdo fiducia nel Learner\")\n",
    "        self.eta *= 1./1.1          # if I disappoint you, otherwise...\n",
    "\n",
    "        \n",
    "    def softmax(self,probabilityDistribution):\n",
    "        # returns the homotopied probability distribution\n",
    "        \n",
    "        return np.exp(probabilityDistribution)** self.eta / (np.exp(probabilityDistribution) ** self.eta).sum()\n",
    "\n",
    "    def choose(self,probabilityDistribution):\n",
    "        # takes as input a probability distribution and \"homotopies\" it with the uniform distribution\n",
    "        # according to its trust.\n",
    "        # returns the extracted index\n",
    "        normalize               = lambda x : (x - x.min())/(x.max() - x.min())\n",
    "        probabilityDistribution = 1 - normalize(probabilityDistribution)\n",
    "        P = self.softmax(probabilityDistribution)\n",
    "        return np.random.choice(len(P),p = P)"
   ]
  },
  {
   "cell_type": "markdown",
   "id": "0c5a2b72",
   "metadata": {},
   "source": [
    "# Team\n",
    "Class that models the cooperative system between the learner and the guide"
   ]
  },
  {
   "cell_type": "code",
   "execution_count": 45,
   "id": "7bbef261",
   "metadata": {},
   "outputs": [],
   "source": [
    "class Team:\n",
    "    def __init__(self):\n",
    "        self.G = Guide()\n",
    "        self.L = Learner()\n",
    "        \n",
    "    def optimize(self,protein):\n",
    "        protein.compute_q_value()                                                # compute the q value of the input protein\n",
    "        for i in range(100):                                                     # loop\n",
    "            information_neighbors    =  protein.information_neighbors()          # map each neighbour with an information packet\n",
    "            probability_distribution =  self.L.predict(information_neighbors)    # returns a dictionary that associate each mutation with a probability distribution\n",
    "            selected_mutation        =  self.G.choose(probability_distribution)  # select the next mutation according to the learner's opinion\n",
    "            \n",
    "            new_protein              =  protein.mutate(selected_mutation)        # performs the mutation\n",
    "            new_protein.compute_q_value()                                        # compute the q value for the current mutation\n",
    "            \n",
    "            self.L.learn(                                                        # give to the Learner the knowledge about \n",
    "                    information_neighbors[selected_mutation],                    # the mapping between chosen mutation information packet\n",
    "                    new_protein.get_q_value()                                    # and the q value associated to the chosen mutation\n",
    "            )\n",
    "            \n",
    "            if( new_protein.get_q_value() <= protein.get_q_value() ):            # greedy descent\n",
    "                protein = new_protein                                            # since q value has been computed for new_protein it's stored in new_protein and therefore at this point in the protein\n",
    "                self.G.trust()                                                   # builds trust between guide and learner\n",
    "            else:\n",
    "                self.G.untrust()                                                 # damages trust between guide and learner\n",
    "            print( protein.get_q_value() )"
   ]
  },
  {
   "cell_type": "markdown",
   "id": "9f1107fb",
   "metadata": {},
   "source": [
    "# main"
   ]
  },
  {
   "cell_type": "code",
   "execution_count": 46,
   "id": "2985a2c1",
   "metadata": {
    "scrolled": true
   },
   "outputs": [
    {
     "name": "stdout",
     "output_type": "stream",
     "text": [
      "s\n",
      "calculating q value of starting protein...\n",
      "s.pdb ha q value pari a 402 \n",
      "Obtaining neighbours info...\n",
      "   ********************************************\n",
      "   ***                                      ***\n",
      "   ***             FoldX 5 (c)              ***\n",
      "   ***                                      ***\n",
      "   ***     code by the FoldX Consortium     ***\n",
      "   ***                                      ***\n",
      "   ***     Jesper Borg, Frederic Rousseau   ***\n",
      "   ***    Joost Schymkowitz, Luis Serrano   ***\n",
      "   ***    Peter Vanhee, Erik Verschueren    ***\n",
      "   ***     Lies Baeten, Javier Delgado      ***\n",
      "   ***       and Francois Stricher          ***\n",
      "   *** and any other of the 9! permutations ***\n",
      "   ***   based on an original concept by    ***\n",
      "   ***   Raphael Guerois and Luis Serrano   ***\n",
      "   ********************************************\n",
      "\n",
      "Start FoldX AlaScan >>>\n",
      "\n",
      "1 models read: s.pdb\n",
      "s\n",
      "Your file run OK\n",
      "End time of FoldX: Mon Nov 27 11:06:08 2023\n",
      "Total time spend: 1.06093 seconds.\n",
      "Total mutations (reduced for this attempt to save time): 38\n",
      "Generating  mutated pdbs...\n",
      "CompletedProcess(args=['foldx_20231231 --command=BuildModel --pdb=s.pdb --mutant-file=individual_list.txt > mutation_output.txt'], returncode=0)\n",
      "Learner : sto sparando a caso\n",
      "la mutazione selezionata è s_26.pdb\n",
      "epoch 0\n",
      "-----------------------------------Protein s_26         -----------------------------------\n",
      "Ionizing the structure for the simulation...\n"
     ]
    },
    {
     "name": "stderr",
     "output_type": "stream",
     "text": [
      "/usr/local/lib/vmd/vmd_LINUXAMD64: /lib/x86_64-linux-gnu/libGL.so.1: no version information available (required by /usr/local/lib/vmd/vmd_LINUXAMD64)\n",
      "/usr/local/lib/vmd/vmd_LINUXAMD64: /lib/x86_64-linux-gnu/libGL.so.1: no version information available (required by /usr/local/lib/vmd/vmd_LINUXAMD64)\n"
     ]
    },
    {
     "name": "stdout",
     "output_type": "stream",
     "text": [
      "Running the simulation...\n",
      "Computing the Q-value...\n"
     ]
    },
    {
     "name": "stderr",
     "output_type": "stream",
     "text": [
      "/usr/local/lib/vmd/vmd_LINUXAMD64: /lib/x86_64-linux-gnu/libGL.so.1: no version information available (required by /usr/local/lib/vmd/vmd_LINUXAMD64)\n"
     ]
    },
    {
     "name": "stdout",
     "output_type": "stream",
     "text": [
      "399.0\n",
      "Guida dice : Costruisco fiducia nel Learner\n",
      "s_26.pdb ha q value pari a 399.0 \n",
      "Obtaining neighbours info...\n",
      "   ********************************************\n",
      "   ***                                      ***\n",
      "   ***             FoldX 5 (c)              ***\n",
      "   ***                                      ***\n",
      "   ***     code by the FoldX Consortium     ***\n",
      "   ***                                      ***\n",
      "   ***     Jesper Borg, Frederic Rousseau   ***\n",
      "   ***    Joost Schymkowitz, Luis Serrano   ***\n",
      "   ***    Peter Vanhee, Erik Verschueren    ***\n",
      "   ***     Lies Baeten, Javier Delgado      ***\n",
      "   ***       and Francois Stricher          ***\n",
      "   *** and any other of the 9! permutations ***\n",
      "   ***   based on an original concept by    ***\n",
      "   ***   Raphael Guerois and Luis Serrano   ***\n",
      "   ********************************************\n",
      "\n",
      "Start FoldX AlaScan >>>\n",
      "\n",
      "1 models read: s_26.pdb\n",
      "s_26\n",
      "Your file run OK\n",
      "End time of FoldX: Mon Nov 27 11:10:22 2023\n",
      "Total time spend: 1.0756 seconds.\n",
      "Total mutations (reduced for this attempt to save time): 38\n",
      "Generating  mutated pdbs...\n",
      "CompletedProcess(args=['foldx_20231231 --command=BuildModel --pdb=s_26.pdb --mutant-file=individual_list.txt > mutation_output.txt'], returncode=0)\n",
      "Learner : sto sparando a caso\n",
      "la mutazione selezionata è s_26_23.pdb\n",
      "epoch 1\n",
      "-----------------------------------Protein s_26_23         -----------------------------------\n",
      "Ionizing the structure for the simulation...\n"
     ]
    },
    {
     "name": "stderr",
     "output_type": "stream",
     "text": [
      "/usr/local/lib/vmd/vmd_LINUXAMD64: /lib/x86_64-linux-gnu/libGL.so.1: no version information available (required by /usr/local/lib/vmd/vmd_LINUXAMD64)\n",
      "/usr/local/lib/vmd/vmd_LINUXAMD64: /lib/x86_64-linux-gnu/libGL.so.1: no version information available (required by /usr/local/lib/vmd/vmd_LINUXAMD64)\n"
     ]
    },
    {
     "name": "stdout",
     "output_type": "stream",
     "text": [
      "Running the simulation...\n",
      "Computing the Q-value...\n"
     ]
    },
    {
     "name": "stderr",
     "output_type": "stream",
     "text": [
      "/usr/local/lib/vmd/vmd_LINUXAMD64: /lib/x86_64-linux-gnu/libGL.so.1: no version information available (required by /usr/local/lib/vmd/vmd_LINUXAMD64)\n"
     ]
    },
    {
     "name": "stdout",
     "output_type": "stream",
     "text": [
      "385.0\n",
      "Guida dice : Costruisco fiducia nel Learner\n",
      "s_26_23.pdb ha q value pari a 385.0 \n",
      "Obtaining neighbours info...\n",
      "   ********************************************\n",
      "   ***                                      ***\n",
      "   ***             FoldX 5 (c)              ***\n",
      "   ***                                      ***\n",
      "   ***     code by the FoldX Consortium     ***\n",
      "   ***                                      ***\n",
      "   ***     Jesper Borg, Frederic Rousseau   ***\n",
      "   ***    Joost Schymkowitz, Luis Serrano   ***\n",
      "   ***    Peter Vanhee, Erik Verschueren    ***\n",
      "   ***     Lies Baeten, Javier Delgado      ***\n",
      "   ***       and Francois Stricher          ***\n",
      "   *** and any other of the 9! permutations ***\n",
      "   ***   based on an original concept by    ***\n",
      "   ***   Raphael Guerois and Luis Serrano   ***\n",
      "   ********************************************\n",
      "\n",
      "Start FoldX AlaScan >>>\n",
      "\n",
      "1 models read: s_26_23.pdb\n",
      "s_26_23\n",
      "Your file run OK\n",
      "End time of FoldX: Mon Nov 27 11:15:05 2023\n",
      "Total time spend: 1.06979 seconds.\n",
      "Total mutations (reduced for this attempt to save time): 38\n",
      "Generating  mutated pdbs...\n",
      "CompletedProcess(args=['foldx_20231231 --command=BuildModel --pdb=s_26_23.pdb --mutant-file=individual_list.txt > mutation_output.txt'], returncode=0)\n",
      "Learner : sto ragionando\n",
      "input =  (38, 19)\n",
      "X.shape\t (2, 19)\n",
      "Y.shape\t (2,)\n",
      "la mutazione selezionata è s_26_23_23.pdb\n",
      "epoch 2\n",
      "-----------------------------------Protein s_26_23_23         -----------------------------------\n",
      "Ionizing the structure for the simulation...\n"
     ]
    },
    {
     "name": "stderr",
     "output_type": "stream",
     "text": [
      "/usr/local/lib/vmd/vmd_LINUXAMD64: /lib/x86_64-linux-gnu/libGL.so.1: no version information available (required by /usr/local/lib/vmd/vmd_LINUXAMD64)\n",
      "/usr/local/lib/vmd/vmd_LINUXAMD64: /lib/x86_64-linux-gnu/libGL.so.1: no version information available (required by /usr/local/lib/vmd/vmd_LINUXAMD64)\n"
     ]
    },
    {
     "name": "stdout",
     "output_type": "stream",
     "text": [
      "Running the simulation...\n",
      "Computing the Q-value...\n"
     ]
    },
    {
     "name": "stderr",
     "output_type": "stream",
     "text": [
      "/usr/local/lib/vmd/vmd_LINUXAMD64: /lib/x86_64-linux-gnu/libGL.so.1: no version information available (required by /usr/local/lib/vmd/vmd_LINUXAMD64)\n"
     ]
    },
    {
     "name": "stdout",
     "output_type": "stream",
     "text": [
      "397.0\n",
      "Guida dice : Perdo fiducia nel Learner\n",
      "s_26_23_23.pdb ha q value pari a 397.0 \n",
      "Learner : sto ragionando\n",
      "input =  (38, 19)\n",
      "X.shape\t (3, 19)\n",
      "Y.shape\t (3,)\n",
      "la mutazione selezionata è s_26_23_14.pdb\n",
      "epoch 3\n",
      "-----------------------------------Protein s_26_23_14         -----------------------------------\n",
      "Ionizing the structure for the simulation...\n"
     ]
    },
    {
     "name": "stderr",
     "output_type": "stream",
     "text": [
      "mv: cannot stat 'Dif_*.fxout': No such file or directory\n",
      "/usr/local/lib/vmd/vmd_LINUXAMD64: /lib/x86_64-linux-gnu/libGL.so.1: no version information available (required by /usr/local/lib/vmd/vmd_LINUXAMD64)\n",
      "/usr/local/lib/vmd/vmd_LINUXAMD64: /lib/x86_64-linux-gnu/libGL.so.1: no version information available (required by /usr/local/lib/vmd/vmd_LINUXAMD64)\n"
     ]
    },
    {
     "name": "stdout",
     "output_type": "stream",
     "text": [
      "Running the simulation...\n",
      "Computing the Q-value...\n"
     ]
    },
    {
     "name": "stderr",
     "output_type": "stream",
     "text": [
      "/usr/local/lib/vmd/vmd_LINUXAMD64: /lib/x86_64-linux-gnu/libGL.so.1: no version information available (required by /usr/local/lib/vmd/vmd_LINUXAMD64)\n"
     ]
    },
    {
     "name": "stdout",
     "output_type": "stream",
     "text": [
      "398.0\n",
      "Guida dice : Perdo fiducia nel Learner\n",
      "s_26_23_14.pdb ha q value pari a 398.0 \n",
      "Learner : sto ragionando\n",
      "input =  (38, 19)\n",
      "X.shape\t (4, 19)\n",
      "Y.shape\t (4,)\n",
      "la mutazione selezionata è s_26_23_19.pdb\n",
      "epoch 4\n",
      "-----------------------------------Protein s_26_23_19         -----------------------------------\n",
      "Ionizing the structure for the simulation...\n"
     ]
    },
    {
     "name": "stderr",
     "output_type": "stream",
     "text": [
      "mv: cannot stat 'Dif_*.fxout': No such file or directory\n",
      "/usr/local/lib/vmd/vmd_LINUXAMD64: /lib/x86_64-linux-gnu/libGL.so.1: no version information available (required by /usr/local/lib/vmd/vmd_LINUXAMD64)\n",
      "/usr/local/lib/vmd/vmd_LINUXAMD64: /lib/x86_64-linux-gnu/libGL.so.1: no version information available (required by /usr/local/lib/vmd/vmd_LINUXAMD64)\n"
     ]
    },
    {
     "name": "stdout",
     "output_type": "stream",
     "text": [
      "Running the simulation...\n",
      "Computing the Q-value...\n"
     ]
    },
    {
     "name": "stderr",
     "output_type": "stream",
     "text": [
      "/usr/local/lib/vmd/vmd_LINUXAMD64: /lib/x86_64-linux-gnu/libGL.so.1: no version information available (required by /usr/local/lib/vmd/vmd_LINUXAMD64)\n"
     ]
    },
    {
     "name": "stdout",
     "output_type": "stream",
     "text": [
      "370.0\n",
      "Guida dice : Costruisco fiducia nel Learner\n",
      "s_26_23_19.pdb ha q value pari a 370.0 \n",
      "Obtaining neighbours info...\n",
      "   ********************************************\n",
      "   ***                                      ***\n",
      "   ***             FoldX 5 (c)              ***\n",
      "   ***                                      ***\n",
      "   ***     code by the FoldX Consortium     ***\n",
      "   ***                                      ***\n",
      "   ***     Jesper Borg, Frederic Rousseau   ***\n",
      "   ***    Joost Schymkowitz, Luis Serrano   ***\n",
      "   ***    Peter Vanhee, Erik Verschueren    ***\n",
      "   ***     Lies Baeten, Javier Delgado      ***\n",
      "   ***       and Francois Stricher          ***\n",
      "   *** and any other of the 9! permutations ***\n",
      "   ***   based on an original concept by    ***\n",
      "   ***   Raphael Guerois and Luis Serrano   ***\n",
      "   ********************************************\n",
      "\n",
      "Start FoldX AlaScan >>>\n",
      "\n",
      "1 models read: s_26_23_19.pdb\n",
      "s_26_23_19\n",
      "Your file run OK\n",
      "End time of FoldX: Mon Nov 27 11:23:26 2023\n",
      "Total time spend: 1.08696 seconds.\n",
      "Total mutations (reduced for this attempt to save time): 19\n",
      "Generating  mutated pdbs...\n",
      "CompletedProcess(args=['foldx_20231231 --command=BuildModel --pdb=s_26_23_19.pdb --mutant-file=individual_list.txt > mutation_output.txt'], returncode=0)\n",
      "Learner : sto ragionando\n",
      "input =  (19, 19)\n",
      "X.shape\t (5, 19)\n",
      "Y.shape\t (5,)\n",
      "la mutazione selezionata è s_26_23_19_7.pdb\n",
      "epoch 5\n",
      "-----------------------------------Protein s_26_23_19_7         -----------------------------------\n",
      "Ionizing the structure for the simulation...\n"
     ]
    },
    {
     "name": "stderr",
     "output_type": "stream",
     "text": [
      "/usr/local/lib/vmd/vmd_LINUXAMD64: /lib/x86_64-linux-gnu/libGL.so.1: no version information available (required by /usr/local/lib/vmd/vmd_LINUXAMD64)\n",
      "/usr/local/lib/vmd/vmd_LINUXAMD64: /lib/x86_64-linux-gnu/libGL.so.1: no version information available (required by /usr/local/lib/vmd/vmd_LINUXAMD64)\n"
     ]
    },
    {
     "name": "stdout",
     "output_type": "stream",
     "text": [
      "Running the simulation...\n",
      "Computing the Q-value...\n"
     ]
    },
    {
     "name": "stderr",
     "output_type": "stream",
     "text": [
      "/usr/local/lib/vmd/vmd_LINUXAMD64: /lib/x86_64-linux-gnu/libGL.so.1: no version information available (required by /usr/local/lib/vmd/vmd_LINUXAMD64)\n"
     ]
    },
    {
     "name": "stdout",
     "output_type": "stream",
     "text": [
      "380.0\n",
      "Guida dice : Perdo fiducia nel Learner\n",
      "s_26_23_19_7.pdb ha q value pari a 380.0 \n",
      "Learner : sto ragionando\n",
      "input =  (19, 19)\n",
      "X.shape\t (6, 19)\n",
      "Y.shape\t (6,)\n",
      "la mutazione selezionata è s_26_23_19_1.pdb\n",
      "epoch 6\n",
      "-----------------------------------Protein s_26_23_19_1         -----------------------------------\n",
      "Ionizing the structure for the simulation...\n"
     ]
    },
    {
     "name": "stderr",
     "output_type": "stream",
     "text": [
      "mv: cannot stat 'Dif_*.fxout': No such file or directory\n",
      "/usr/local/lib/vmd/vmd_LINUXAMD64: /lib/x86_64-linux-gnu/libGL.so.1: no version information available (required by /usr/local/lib/vmd/vmd_LINUXAMD64)\n",
      "/usr/local/lib/vmd/vmd_LINUXAMD64: /lib/x86_64-linux-gnu/libGL.so.1: no version information available (required by /usr/local/lib/vmd/vmd_LINUXAMD64)\n"
     ]
    },
    {
     "name": "stdout",
     "output_type": "stream",
     "text": [
      "Running the simulation...\n",
      "Computing the Q-value...\n"
     ]
    },
    {
     "name": "stderr",
     "output_type": "stream",
     "text": [
      "/usr/local/lib/vmd/vmd_LINUXAMD64: /lib/x86_64-linux-gnu/libGL.so.1: no version information available (required by /usr/local/lib/vmd/vmd_LINUXAMD64)\n"
     ]
    },
    {
     "name": "stdout",
     "output_type": "stream",
     "text": [
      "382.0\n",
      "Guida dice : Perdo fiducia nel Learner\n",
      "s_26_23_19_1.pdb ha q value pari a 382.0 \n",
      "Learner : sto ragionando\n",
      "input =  (19, 19)\n",
      "X.shape\t (7, 19)\n",
      "Y.shape\t (7,)\n",
      "la mutazione selezionata è s_26_23_19_12.pdb\n",
      "epoch 7\n",
      "-----------------------------------Protein s_26_23_19_12         -----------------------------------\n",
      "Ionizing the structure for the simulation...\n"
     ]
    },
    {
     "name": "stderr",
     "output_type": "stream",
     "text": [
      "mv: cannot stat 'Dif_*.fxout': No such file or directory\n",
      "/usr/local/lib/vmd/vmd_LINUXAMD64: /lib/x86_64-linux-gnu/libGL.so.1: no version information available (required by /usr/local/lib/vmd/vmd_LINUXAMD64)\n",
      "/usr/local/lib/vmd/vmd_LINUXAMD64: /lib/x86_64-linux-gnu/libGL.so.1: no version information available (required by /usr/local/lib/vmd/vmd_LINUXAMD64)\n"
     ]
    },
    {
     "name": "stdout",
     "output_type": "stream",
     "text": [
      "Running the simulation...\n",
      "Computing the Q-value...\n"
     ]
    },
    {
     "name": "stderr",
     "output_type": "stream",
     "text": [
      "/usr/local/lib/vmd/vmd_LINUXAMD64: /lib/x86_64-linux-gnu/libGL.so.1: no version information available (required by /usr/local/lib/vmd/vmd_LINUXAMD64)\n"
     ]
    },
    {
     "name": "stdout",
     "output_type": "stream",
     "text": [
      "398.0\n",
      "Guida dice : Perdo fiducia nel Learner\n",
      "s_26_23_19_12.pdb ha q value pari a 398.0 \n",
      "Learner : sto ragionando\n",
      "input =  (19, 19)\n",
      "X.shape\t (8, 19)\n",
      "Y.shape\t (8,)\n",
      "la mutazione selezionata è s_26_23_19_15.pdb\n",
      "epoch 8\n",
      "-----------------------------------Protein s_26_23_19_15         -----------------------------------\n",
      "Ionizing the structure for the simulation...\n"
     ]
    },
    {
     "name": "stderr",
     "output_type": "stream",
     "text": [
      "mv: cannot stat 'Dif_*.fxout': No such file or directory\n",
      "/usr/local/lib/vmd/vmd_LINUXAMD64: /lib/x86_64-linux-gnu/libGL.so.1: no version information available (required by /usr/local/lib/vmd/vmd_LINUXAMD64)\n",
      "/usr/local/lib/vmd/vmd_LINUXAMD64: /lib/x86_64-linux-gnu/libGL.so.1: no version information available (required by /usr/local/lib/vmd/vmd_LINUXAMD64)\n"
     ]
    },
    {
     "name": "stdout",
     "output_type": "stream",
     "text": [
      "Running the simulation...\n",
      "Computing the Q-value...\n"
     ]
    },
    {
     "name": "stderr",
     "output_type": "stream",
     "text": [
      "/usr/local/lib/vmd/vmd_LINUXAMD64: /lib/x86_64-linux-gnu/libGL.so.1: no version information available (required by /usr/local/lib/vmd/vmd_LINUXAMD64)\n"
     ]
    },
    {
     "name": "stdout",
     "output_type": "stream",
     "text": [
      "395.0\n",
      "Guida dice : Perdo fiducia nel Learner\n",
      "s_26_23_19_15.pdb ha q value pari a 395.0 \n",
      "Learner : sto ragionando\n",
      "input =  (19, 19)\n",
      "X.shape\t (9, 19)\n",
      "Y.shape\t (9,)\n",
      "la mutazione selezionata è s_26_23_19_12.pdb\n",
      "epoch 9\n",
      "-----------------------------------Protein s_26_23_19_12         -----------------------------------\n",
      "Ionizing the structure for the simulation...\n"
     ]
    },
    {
     "name": "stderr",
     "output_type": "stream",
     "text": [
      "mv: cannot stat 'Dif_*.fxout': No such file or directory\n",
      "/usr/local/lib/vmd/vmd_LINUXAMD64: /lib/x86_64-linux-gnu/libGL.so.1: no version information available (required by /usr/local/lib/vmd/vmd_LINUXAMD64)\n",
      "/usr/local/lib/vmd/vmd_LINUXAMD64: /lib/x86_64-linux-gnu/libGL.so.1: no version information available (required by /usr/local/lib/vmd/vmd_LINUXAMD64)\n"
     ]
    },
    {
     "name": "stdout",
     "output_type": "stream",
     "text": [
      "Running the simulation...\n",
      "Computing the Q-value...\n"
     ]
    },
    {
     "name": "stderr",
     "output_type": "stream",
     "text": [
      "/usr/local/lib/vmd/vmd_LINUXAMD64: /lib/x86_64-linux-gnu/libGL.so.1: no version information available (required by /usr/local/lib/vmd/vmd_LINUXAMD64)\n"
     ]
    },
    {
     "name": "stdout",
     "output_type": "stream",
     "text": [
      "396.0\n",
      "Guida dice : Perdo fiducia nel Learner\n",
      "s_26_23_19_12.pdb ha q value pari a 396.0 \n",
      "Learner : sto ragionando\n",
      "input =  (19, 19)\n",
      "X.shape\t (10, 19)\n",
      "Y.shape\t (10,)\n",
      "la mutazione selezionata è s_26_23_19_18.pdb\n",
      "epoch 10\n",
      "-----------------------------------Protein s_26_23_19_18         -----------------------------------\n",
      "Ionizing the structure for the simulation...\n"
     ]
    },
    {
     "name": "stderr",
     "output_type": "stream",
     "text": [
      "mv: cannot stat 'Dif_*.fxout': No such file or directory\n",
      "/usr/local/lib/vmd/vmd_LINUXAMD64: /lib/x86_64-linux-gnu/libGL.so.1: no version information available (required by /usr/local/lib/vmd/vmd_LINUXAMD64)\n",
      "/usr/local/lib/vmd/vmd_LINUXAMD64: /lib/x86_64-linux-gnu/libGL.so.1: no version information available (required by /usr/local/lib/vmd/vmd_LINUXAMD64)\n"
     ]
    },
    {
     "name": "stdout",
     "output_type": "stream",
     "text": [
      "Running the simulation...\n",
      "Computing the Q-value...\n"
     ]
    },
    {
     "name": "stderr",
     "output_type": "stream",
     "text": [
      "/usr/local/lib/vmd/vmd_LINUXAMD64: /lib/x86_64-linux-gnu/libGL.so.1: no version information available (required by /usr/local/lib/vmd/vmd_LINUXAMD64)\n"
     ]
    },
    {
     "name": "stdout",
     "output_type": "stream",
     "text": [
      "388.0\n",
      "Guida dice : Perdo fiducia nel Learner\n",
      "s_26_23_19_18.pdb ha q value pari a 388.0 \n",
      "Learner : sto ragionando\n",
      "input =  (19, 19)\n",
      "X.shape\t (11, 19)\n",
      "Y.shape\t (11,)\n",
      "la mutazione selezionata è s_26_23_19_18.pdb\n",
      "epoch 11\n",
      "-----------------------------------Protein s_26_23_19_18         -----------------------------------\n",
      "Ionizing the structure for the simulation...\n"
     ]
    },
    {
     "name": "stderr",
     "output_type": "stream",
     "text": [
      "mv: cannot stat 'Dif_*.fxout': No such file or directory\n",
      "/usr/local/lib/vmd/vmd_LINUXAMD64: /lib/x86_64-linux-gnu/libGL.so.1: no version information available (required by /usr/local/lib/vmd/vmd_LINUXAMD64)\n",
      "/usr/local/lib/vmd/vmd_LINUXAMD64: /lib/x86_64-linux-gnu/libGL.so.1: no version information available (required by /usr/local/lib/vmd/vmd_LINUXAMD64)\n"
     ]
    },
    {
     "name": "stdout",
     "output_type": "stream",
     "text": [
      "Running the simulation...\n",
      "Computing the Q-value...\n"
     ]
    },
    {
     "name": "stderr",
     "output_type": "stream",
     "text": [
      "/usr/local/lib/vmd/vmd_LINUXAMD64: /lib/x86_64-linux-gnu/libGL.so.1: no version information available (required by /usr/local/lib/vmd/vmd_LINUXAMD64)\n"
     ]
    },
    {
     "name": "stdout",
     "output_type": "stream",
     "text": [
      "392.0\n",
      "Guida dice : Perdo fiducia nel Learner\n",
      "s_26_23_19_18.pdb ha q value pari a 392.0 \n",
      "Learner : sto ragionando\n",
      "input =  (19, 19)\n",
      "X.shape\t (12, 19)\n",
      "Y.shape\t (12,)\n",
      "la mutazione selezionata è s_26_23_19_12.pdb\n",
      "epoch 12\n",
      "-----------------------------------Protein s_26_23_19_12         -----------------------------------\n",
      "Ionizing the structure for the simulation...\n"
     ]
    },
    {
     "name": "stderr",
     "output_type": "stream",
     "text": [
      "mv: cannot stat 'Dif_*.fxout': No such file or directory\n",
      "/usr/local/lib/vmd/vmd_LINUXAMD64: /lib/x86_64-linux-gnu/libGL.so.1: no version information available (required by /usr/local/lib/vmd/vmd_LINUXAMD64)\n",
      "/usr/local/lib/vmd/vmd_LINUXAMD64: /lib/x86_64-linux-gnu/libGL.so.1: no version information available (required by /usr/local/lib/vmd/vmd_LINUXAMD64)\n"
     ]
    },
    {
     "name": "stdout",
     "output_type": "stream",
     "text": [
      "Running the simulation...\n",
      "Computing the Q-value...\n"
     ]
    },
    {
     "name": "stderr",
     "output_type": "stream",
     "text": [
      "/usr/local/lib/vmd/vmd_LINUXAMD64: /lib/x86_64-linux-gnu/libGL.so.1: no version information available (required by /usr/local/lib/vmd/vmd_LINUXAMD64)\n"
     ]
    },
    {
     "name": "stdout",
     "output_type": "stream",
     "text": [
      "399.0\n",
      "Guida dice : Perdo fiducia nel Learner\n",
      "s_26_23_19_12.pdb ha q value pari a 399.0 \n",
      "Learner : sto ragionando\n",
      "input =  (19, 19)\n",
      "X.shape\t (13, 19)\n",
      "Y.shape\t (13,)\n",
      "la mutazione selezionata è s_26_23_19_8.pdb\n",
      "epoch 13\n",
      "-----------------------------------Protein s_26_23_19_8         -----------------------------------\n",
      "Ionizing the structure for the simulation...\n"
     ]
    },
    {
     "name": "stderr",
     "output_type": "stream",
     "text": [
      "mv: cannot stat 'Dif_*.fxout': No such file or directory\n",
      "/usr/local/lib/vmd/vmd_LINUXAMD64: /lib/x86_64-linux-gnu/libGL.so.1: no version information available (required by /usr/local/lib/vmd/vmd_LINUXAMD64)\n",
      "/usr/local/lib/vmd/vmd_LINUXAMD64: /lib/x86_64-linux-gnu/libGL.so.1: no version information available (required by /usr/local/lib/vmd/vmd_LINUXAMD64)\n"
     ]
    },
    {
     "name": "stdout",
     "output_type": "stream",
     "text": [
      "Running the simulation...\n",
      "Computing the Q-value...\n"
     ]
    },
    {
     "name": "stderr",
     "output_type": "stream",
     "text": [
      "/usr/local/lib/vmd/vmd_LINUXAMD64: /lib/x86_64-linux-gnu/libGL.so.1: no version information available (required by /usr/local/lib/vmd/vmd_LINUXAMD64)\n"
     ]
    },
    {
     "name": "stdout",
     "output_type": "stream",
     "text": [
      "387.0\n",
      "Guida dice : Perdo fiducia nel Learner\n",
      "s_26_23_19_8.pdb ha q value pari a 387.0 \n",
      "Learner : sto ragionando\n",
      "input =  (19, 19)\n",
      "X.shape\t (14, 19)\n",
      "Y.shape\t (14,)\n",
      "la mutazione selezionata è s_26_23_19_8.pdb\n",
      "epoch 14\n",
      "-----------------------------------Protein s_26_23_19_8         -----------------------------------\n",
      "Ionizing the structure for the simulation...\n"
     ]
    },
    {
     "name": "stderr",
     "output_type": "stream",
     "text": [
      "mv: cannot stat 'Dif_*.fxout': No such file or directory\n",
      "/usr/local/lib/vmd/vmd_LINUXAMD64: /lib/x86_64-linux-gnu/libGL.so.1: no version information available (required by /usr/local/lib/vmd/vmd_LINUXAMD64)\n",
      "/usr/local/lib/vmd/vmd_LINUXAMD64: /lib/x86_64-linux-gnu/libGL.so.1: no version information available (required by /usr/local/lib/vmd/vmd_LINUXAMD64)\n"
     ]
    },
    {
     "name": "stdout",
     "output_type": "stream",
     "text": [
      "Running the simulation...\n",
      "Computing the Q-value...\n"
     ]
    },
    {
     "name": "stderr",
     "output_type": "stream",
     "text": [
      "/usr/local/lib/vmd/vmd_LINUXAMD64: /lib/x86_64-linux-gnu/libGL.so.1: no version information available (required by /usr/local/lib/vmd/vmd_LINUXAMD64)\n"
     ]
    },
    {
     "name": "stdout",
     "output_type": "stream",
     "text": [
      "390.0\n",
      "Guida dice : Perdo fiducia nel Learner\n",
      "s_26_23_19_8.pdb ha q value pari a 390.0 \n",
      "Learner : sto ragionando\n",
      "input =  (19, 19)\n",
      "X.shape\t (15, 19)\n",
      "Y.shape\t (15,)\n",
      "la mutazione selezionata è s_26_23_19_4.pdb\n",
      "epoch 15\n",
      "-----------------------------------Protein s_26_23_19_4         -----------------------------------\n",
      "Ionizing the structure for the simulation...\n"
     ]
    },
    {
     "name": "stderr",
     "output_type": "stream",
     "text": [
      "mv: cannot stat 'Dif_*.fxout': No such file or directory\n",
      "/usr/local/lib/vmd/vmd_LINUXAMD64: /lib/x86_64-linux-gnu/libGL.so.1: no version information available (required by /usr/local/lib/vmd/vmd_LINUXAMD64)\n",
      "/usr/local/lib/vmd/vmd_LINUXAMD64: /lib/x86_64-linux-gnu/libGL.so.1: no version information available (required by /usr/local/lib/vmd/vmd_LINUXAMD64)\n"
     ]
    },
    {
     "name": "stdout",
     "output_type": "stream",
     "text": [
      "Running the simulation...\n",
      "Computing the Q-value...\n"
     ]
    },
    {
     "name": "stderr",
     "output_type": "stream",
     "text": [
      "/usr/local/lib/vmd/vmd_LINUXAMD64: /lib/x86_64-linux-gnu/libGL.so.1: no version information available (required by /usr/local/lib/vmd/vmd_LINUXAMD64)\n"
     ]
    },
    {
     "name": "stdout",
     "output_type": "stream",
     "text": [
      "398.0\n",
      "Guida dice : Perdo fiducia nel Learner\n",
      "s_26_23_19_4.pdb ha q value pari a 398.0 \n",
      "Learner : sto ragionando\n",
      "input =  (19, 19)\n",
      "X.shape\t (16, 19)\n",
      "Y.shape\t (16,)\n",
      "la mutazione selezionata è s_26_23_19_11.pdb\n",
      "epoch 16\n",
      "-----------------------------------Protein s_26_23_19_11         -----------------------------------\n",
      "Ionizing the structure for the simulation...\n"
     ]
    },
    {
     "name": "stderr",
     "output_type": "stream",
     "text": [
      "mv: cannot stat 'Dif_*.fxout': No such file or directory\n",
      "/usr/local/lib/vmd/vmd_LINUXAMD64: /lib/x86_64-linux-gnu/libGL.so.1: no version information available (required by /usr/local/lib/vmd/vmd_LINUXAMD64)\n",
      "/usr/local/lib/vmd/vmd_LINUXAMD64: /lib/x86_64-linux-gnu/libGL.so.1: no version information available (required by /usr/local/lib/vmd/vmd_LINUXAMD64)\n"
     ]
    },
    {
     "name": "stdout",
     "output_type": "stream",
     "text": [
      "Running the simulation...\n",
      "Computing the Q-value...\n"
     ]
    },
    {
     "name": "stderr",
     "output_type": "stream",
     "text": [
      "/usr/local/lib/vmd/vmd_LINUXAMD64: /lib/x86_64-linux-gnu/libGL.so.1: no version information available (required by /usr/local/lib/vmd/vmd_LINUXAMD64)\n"
     ]
    },
    {
     "name": "stdout",
     "output_type": "stream",
     "text": [
      "404.0\n",
      "Guida dice : Perdo fiducia nel Learner\n",
      "s_26_23_19_11.pdb ha q value pari a 404.0 \n",
      "Learner : sto ragionando\n",
      "input =  (19, 19)\n",
      "X.shape\t (17, 19)\n",
      "Y.shape\t (17,)\n",
      "la mutazione selezionata è s_26_23_19_3.pdb\n",
      "epoch 17\n",
      "-----------------------------------Protein s_26_23_19_3         -----------------------------------\n",
      "Ionizing the structure for the simulation...\n"
     ]
    },
    {
     "name": "stderr",
     "output_type": "stream",
     "text": [
      "mv: cannot stat 'Dif_*.fxout': No such file or directory\n",
      "/usr/local/lib/vmd/vmd_LINUXAMD64: /lib/x86_64-linux-gnu/libGL.so.1: no version information available (required by /usr/local/lib/vmd/vmd_LINUXAMD64)\n",
      "/usr/local/lib/vmd/vmd_LINUXAMD64: /lib/x86_64-linux-gnu/libGL.so.1: no version information available (required by /usr/local/lib/vmd/vmd_LINUXAMD64)\n"
     ]
    },
    {
     "name": "stdout",
     "output_type": "stream",
     "text": [
      "Running the simulation...\n",
      "Computing the Q-value...\n"
     ]
    },
    {
     "name": "stderr",
     "output_type": "stream",
     "text": [
      "/usr/local/lib/vmd/vmd_LINUXAMD64: /lib/x86_64-linux-gnu/libGL.so.1: no version information available (required by /usr/local/lib/vmd/vmd_LINUXAMD64)\n"
     ]
    },
    {
     "name": "stdout",
     "output_type": "stream",
     "text": [
      "376.0\n",
      "Guida dice : Perdo fiducia nel Learner\n",
      "s_26_23_19_3.pdb ha q value pari a 376.0 \n",
      "Learner : sto ragionando\n",
      "input =  (19, 19)\n",
      "X.shape\t (18, 19)\n",
      "Y.shape\t (18,)\n",
      "la mutazione selezionata è s_26_23_19_11.pdb\n",
      "epoch 18\n",
      "-----------------------------------Protein s_26_23_19_11         -----------------------------------\n",
      "Ionizing the structure for the simulation...\n"
     ]
    },
    {
     "name": "stderr",
     "output_type": "stream",
     "text": [
      "mv: cannot stat 'Dif_*.fxout': No such file or directory\n",
      "/usr/local/lib/vmd/vmd_LINUXAMD64: /lib/x86_64-linux-gnu/libGL.so.1: no version information available (required by /usr/local/lib/vmd/vmd_LINUXAMD64)\n",
      "/usr/local/lib/vmd/vmd_LINUXAMD64: /lib/x86_64-linux-gnu/libGL.so.1: no version information available (required by /usr/local/lib/vmd/vmd_LINUXAMD64)\n"
     ]
    },
    {
     "name": "stdout",
     "output_type": "stream",
     "text": [
      "Running the simulation...\n",
      "Computing the Q-value...\n"
     ]
    },
    {
     "name": "stderr",
     "output_type": "stream",
     "text": [
      "/usr/local/lib/vmd/vmd_LINUXAMD64: /lib/x86_64-linux-gnu/libGL.so.1: no version information available (required by /usr/local/lib/vmd/vmd_LINUXAMD64)\n"
     ]
    },
    {
     "name": "stdout",
     "output_type": "stream",
     "text": [
      "402.0\n",
      "Guida dice : Perdo fiducia nel Learner\n",
      "s_26_23_19_11.pdb ha q value pari a 402.0 \n",
      "Learner : sto ragionando\n",
      "input =  (19, 19)\n",
      "X.shape\t (19, 19)\n",
      "Y.shape\t (19,)\n",
      "la mutazione selezionata è s_26_23_19_6.pdb\n",
      "epoch 19\n",
      "-----------------------------------Protein s_26_23_19_6         -----------------------------------\n",
      "Ionizing the structure for the simulation...\n"
     ]
    },
    {
     "name": "stderr",
     "output_type": "stream",
     "text": [
      "mv: cannot stat 'Dif_*.fxout': No such file or directory\n",
      "/usr/local/lib/vmd/vmd_LINUXAMD64: /lib/x86_64-linux-gnu/libGL.so.1: no version information available (required by /usr/local/lib/vmd/vmd_LINUXAMD64)\n",
      "/usr/local/lib/vmd/vmd_LINUXAMD64: /lib/x86_64-linux-gnu/libGL.so.1: no version information available (required by /usr/local/lib/vmd/vmd_LINUXAMD64)\n"
     ]
    },
    {
     "name": "stdout",
     "output_type": "stream",
     "text": [
      "Running the simulation...\n",
      "Computing the Q-value...\n"
     ]
    },
    {
     "name": "stderr",
     "output_type": "stream",
     "text": [
      "/usr/local/lib/vmd/vmd_LINUXAMD64: /lib/x86_64-linux-gnu/libGL.so.1: no version information available (required by /usr/local/lib/vmd/vmd_LINUXAMD64)\n"
     ]
    },
    {
     "name": "stdout",
     "output_type": "stream",
     "text": [
      "394.0\n",
      "Guida dice : Perdo fiducia nel Learner\n",
      "s_26_23_19_6.pdb ha q value pari a 394.0 \n",
      "Learner : sto ragionando\n",
      "input =  (19, 19)\n",
      "X.shape\t (20, 19)\n",
      "Y.shape\t (20,)\n",
      "la mutazione selezionata è s_26_23_19_18.pdb\n",
      "epoch 20\n",
      "-----------------------------------Protein s_26_23_19_18         -----------------------------------\n",
      "Ionizing the structure for the simulation...\n"
     ]
    },
    {
     "name": "stderr",
     "output_type": "stream",
     "text": [
      "mv: cannot stat 'Dif_*.fxout': No such file or directory\n",
      "/usr/local/lib/vmd/vmd_LINUXAMD64: /lib/x86_64-linux-gnu/libGL.so.1: no version information available (required by /usr/local/lib/vmd/vmd_LINUXAMD64)\n",
      "/usr/local/lib/vmd/vmd_LINUXAMD64: /lib/x86_64-linux-gnu/libGL.so.1: no version information available (required by /usr/local/lib/vmd/vmd_LINUXAMD64)\n"
     ]
    },
    {
     "name": "stdout",
     "output_type": "stream",
     "text": [
      "Running the simulation...\n",
      "Computing the Q-value...\n"
     ]
    },
    {
     "name": "stderr",
     "output_type": "stream",
     "text": [
      "/usr/local/lib/vmd/vmd_LINUXAMD64: /lib/x86_64-linux-gnu/libGL.so.1: no version information available (required by /usr/local/lib/vmd/vmd_LINUXAMD64)\n"
     ]
    },
    {
     "name": "stdout",
     "output_type": "stream",
     "text": [
      "382.0\n",
      "Guida dice : Perdo fiducia nel Learner\n",
      "s_26_23_19_18.pdb ha q value pari a 382.0 \n",
      "Learner : sto ragionando\n",
      "input =  (19, 19)\n",
      "X.shape\t (21, 19)\n",
      "Y.shape\t (21,)\n",
      "la mutazione selezionata è s_26_23_19_12.pdb\n",
      "epoch 21\n",
      "-----------------------------------Protein s_26_23_19_12         -----------------------------------\n",
      "Ionizing the structure for the simulation...\n"
     ]
    },
    {
     "name": "stderr",
     "output_type": "stream",
     "text": [
      "mv: cannot stat 'Dif_*.fxout': No such file or directory\n",
      "/usr/local/lib/vmd/vmd_LINUXAMD64: /lib/x86_64-linux-gnu/libGL.so.1: no version information available (required by /usr/local/lib/vmd/vmd_LINUXAMD64)\n",
      "/usr/local/lib/vmd/vmd_LINUXAMD64: /lib/x86_64-linux-gnu/libGL.so.1: no version information available (required by /usr/local/lib/vmd/vmd_LINUXAMD64)\n"
     ]
    },
    {
     "name": "stdout",
     "output_type": "stream",
     "text": [
      "Running the simulation...\n",
      "Computing the Q-value...\n"
     ]
    },
    {
     "name": "stderr",
     "output_type": "stream",
     "text": [
      "/usr/local/lib/vmd/vmd_LINUXAMD64: /lib/x86_64-linux-gnu/libGL.so.1: no version information available (required by /usr/local/lib/vmd/vmd_LINUXAMD64)\n"
     ]
    },
    {
     "name": "stdout",
     "output_type": "stream",
     "text": [
      "386.0\n",
      "Guida dice : Perdo fiducia nel Learner\n",
      "s_26_23_19_12.pdb ha q value pari a 386.0 \n",
      "Learner : sto ragionando\n",
      "input =  (19, 19)\n",
      "X.shape\t (22, 19)\n",
      "Y.shape\t (22,)\n",
      "la mutazione selezionata è s_26_23_19_16.pdb\n",
      "epoch 22\n",
      "-----------------------------------Protein s_26_23_19_16         -----------------------------------\n",
      "Ionizing the structure for the simulation...\n"
     ]
    },
    {
     "name": "stderr",
     "output_type": "stream",
     "text": [
      "mv: cannot stat 'Dif_*.fxout': No such file or directory\n",
      "/usr/local/lib/vmd/vmd_LINUXAMD64: /lib/x86_64-linux-gnu/libGL.so.1: no version information available (required by /usr/local/lib/vmd/vmd_LINUXAMD64)\n",
      "/usr/local/lib/vmd/vmd_LINUXAMD64: /lib/x86_64-linux-gnu/libGL.so.1: no version information available (required by /usr/local/lib/vmd/vmd_LINUXAMD64)\n"
     ]
    },
    {
     "name": "stdout",
     "output_type": "stream",
     "text": [
      "Running the simulation...\n",
      "Computing the Q-value...\n"
     ]
    },
    {
     "name": "stderr",
     "output_type": "stream",
     "text": [
      "/usr/local/lib/vmd/vmd_LINUXAMD64: /lib/x86_64-linux-gnu/libGL.so.1: no version information available (required by /usr/local/lib/vmd/vmd_LINUXAMD64)\n"
     ]
    },
    {
     "name": "stdout",
     "output_type": "stream",
     "text": [
      "396.0\n",
      "Guida dice : Perdo fiducia nel Learner\n",
      "s_26_23_19_16.pdb ha q value pari a 396.0 \n",
      "Learner : sto ragionando\n",
      "input =  (19, 19)\n",
      "X.shape\t (23, 19)\n",
      "Y.shape\t (23,)\n",
      "la mutazione selezionata è s_26_23_19_12.pdb\n",
      "epoch 23\n",
      "-----------------------------------Protein s_26_23_19_12         -----------------------------------\n",
      "Ionizing the structure for the simulation...\n"
     ]
    },
    {
     "name": "stderr",
     "output_type": "stream",
     "text": [
      "mv: cannot stat 'Dif_*.fxout': No such file or directory\n",
      "/usr/local/lib/vmd/vmd_LINUXAMD64: /lib/x86_64-linux-gnu/libGL.so.1: no version information available (required by /usr/local/lib/vmd/vmd_LINUXAMD64)\n",
      "/usr/local/lib/vmd/vmd_LINUXAMD64: /lib/x86_64-linux-gnu/libGL.so.1: no version information available (required by /usr/local/lib/vmd/vmd_LINUXAMD64)\n"
     ]
    },
    {
     "name": "stdout",
     "output_type": "stream",
     "text": [
      "Running the simulation...\n",
      "Computing the Q-value...\n"
     ]
    },
    {
     "name": "stderr",
     "output_type": "stream",
     "text": [
      "/usr/local/lib/vmd/vmd_LINUXAMD64: /lib/x86_64-linux-gnu/libGL.so.1: no version information available (required by /usr/local/lib/vmd/vmd_LINUXAMD64)\n"
     ]
    },
    {
     "name": "stdout",
     "output_type": "stream",
     "text": [
      "399.0\n",
      "Guida dice : Perdo fiducia nel Learner\n",
      "s_26_23_19_12.pdb ha q value pari a 399.0 \n",
      "Learner : sto ragionando\n",
      "input =  (19, 19)\n",
      "X.shape\t (24, 19)\n",
      "Y.shape\t (24,)\n",
      "la mutazione selezionata è s_26_23_19_7.pdb\n",
      "epoch 24\n",
      "-----------------------------------Protein s_26_23_19_7         -----------------------------------\n",
      "Ionizing the structure for the simulation...\n"
     ]
    },
    {
     "name": "stderr",
     "output_type": "stream",
     "text": [
      "mv: cannot stat 'Dif_*.fxout': No such file or directory\n",
      "/usr/local/lib/vmd/vmd_LINUXAMD64: /lib/x86_64-linux-gnu/libGL.so.1: no version information available (required by /usr/local/lib/vmd/vmd_LINUXAMD64)\n",
      "/usr/local/lib/vmd/vmd_LINUXAMD64: /lib/x86_64-linux-gnu/libGL.so.1: no version information available (required by /usr/local/lib/vmd/vmd_LINUXAMD64)\n"
     ]
    },
    {
     "name": "stdout",
     "output_type": "stream",
     "text": [
      "Running the simulation...\n",
      "Computing the Q-value...\n"
     ]
    },
    {
     "name": "stderr",
     "output_type": "stream",
     "text": [
      "/usr/local/lib/vmd/vmd_LINUXAMD64: /lib/x86_64-linux-gnu/libGL.so.1: no version information available (required by /usr/local/lib/vmd/vmd_LINUXAMD64)\n"
     ]
    },
    {
     "name": "stdout",
     "output_type": "stream",
     "text": [
      "386.0\n",
      "Guida dice : Perdo fiducia nel Learner\n",
      "s_26_23_19_7.pdb ha q value pari a 386.0 \n",
      "Learner : sto ragionando\n",
      "input =  (19, 19)\n",
      "X.shape\t (25, 19)\n",
      "Y.shape\t (25,)\n",
      "la mutazione selezionata è s_26_23_19_4.pdb\n",
      "epoch 25\n",
      "-----------------------------------Protein s_26_23_19_4         -----------------------------------\n",
      "Ionizing the structure for the simulation...\n"
     ]
    },
    {
     "name": "stderr",
     "output_type": "stream",
     "text": [
      "mv: cannot stat 'Dif_*.fxout': No such file or directory\n",
      "/usr/local/lib/vmd/vmd_LINUXAMD64: /lib/x86_64-linux-gnu/libGL.so.1: no version information available (required by /usr/local/lib/vmd/vmd_LINUXAMD64)\n",
      "/usr/local/lib/vmd/vmd_LINUXAMD64: /lib/x86_64-linux-gnu/libGL.so.1: no version information available (required by /usr/local/lib/vmd/vmd_LINUXAMD64)\n"
     ]
    },
    {
     "name": "stdout",
     "output_type": "stream",
     "text": [
      "Running the simulation...\n",
      "Computing the Q-value...\n"
     ]
    },
    {
     "name": "stderr",
     "output_type": "stream",
     "text": [
      "/usr/local/lib/vmd/vmd_LINUXAMD64: /lib/x86_64-linux-gnu/libGL.so.1: no version information available (required by /usr/local/lib/vmd/vmd_LINUXAMD64)\n"
     ]
    },
    {
     "name": "stdout",
     "output_type": "stream",
     "text": [
      "400.0\n",
      "Guida dice : Perdo fiducia nel Learner\n",
      "s_26_23_19_4.pdb ha q value pari a 400.0 \n",
      "Learner : sto ragionando\n",
      "input =  (19, 19)\n",
      "X.shape\t (26, 19)\n",
      "Y.shape\t (26,)\n",
      "la mutazione selezionata è s_26_23_19_14.pdb\n",
      "epoch 26\n",
      "-----------------------------------Protein s_26_23_19_14         -----------------------------------\n",
      "Ionizing the structure for the simulation...\n"
     ]
    },
    {
     "name": "stderr",
     "output_type": "stream",
     "text": [
      "mv: cannot stat 'Dif_*.fxout': No such file or directory\n",
      "/usr/local/lib/vmd/vmd_LINUXAMD64: /lib/x86_64-linux-gnu/libGL.so.1: no version information available (required by /usr/local/lib/vmd/vmd_LINUXAMD64)\n",
      "/usr/local/lib/vmd/vmd_LINUXAMD64: /lib/x86_64-linux-gnu/libGL.so.1: no version information available (required by /usr/local/lib/vmd/vmd_LINUXAMD64)\n"
     ]
    },
    {
     "name": "stdout",
     "output_type": "stream",
     "text": [
      "Running the simulation...\n",
      "Computing the Q-value...\n"
     ]
    },
    {
     "name": "stderr",
     "output_type": "stream",
     "text": [
      "/usr/local/lib/vmd/vmd_LINUXAMD64: /lib/x86_64-linux-gnu/libGL.so.1: no version information available (required by /usr/local/lib/vmd/vmd_LINUXAMD64)\n"
     ]
    },
    {
     "name": "stdout",
     "output_type": "stream",
     "text": [
      "410.0\n",
      "Guida dice : Perdo fiducia nel Learner\n",
      "s_26_23_19_14.pdb ha q value pari a 410.0 \n",
      "Learner : sto ragionando\n",
      "input =  (19, 19)\n",
      "X.shape\t (27, 19)\n",
      "Y.shape\t (27,)\n",
      "la mutazione selezionata è s_26_23_19_2.pdb\n",
      "epoch 27\n",
      "-----------------------------------Protein s_26_23_19_2         -----------------------------------\n",
      "Ionizing the structure for the simulation...\n"
     ]
    },
    {
     "name": "stderr",
     "output_type": "stream",
     "text": [
      "mv: cannot stat 'Dif_*.fxout': No such file or directory\n",
      "/usr/local/lib/vmd/vmd_LINUXAMD64: /lib/x86_64-linux-gnu/libGL.so.1: no version information available (required by /usr/local/lib/vmd/vmd_LINUXAMD64)\n",
      "/usr/local/lib/vmd/vmd_LINUXAMD64: /lib/x86_64-linux-gnu/libGL.so.1: no version information available (required by /usr/local/lib/vmd/vmd_LINUXAMD64)\n"
     ]
    },
    {
     "name": "stdout",
     "output_type": "stream",
     "text": [
      "Running the simulation...\n",
      "Computing the Q-value...\n"
     ]
    },
    {
     "name": "stderr",
     "output_type": "stream",
     "text": [
      "/usr/local/lib/vmd/vmd_LINUXAMD64: /lib/x86_64-linux-gnu/libGL.so.1: no version information available (required by /usr/local/lib/vmd/vmd_LINUXAMD64)\n"
     ]
    },
    {
     "name": "stdout",
     "output_type": "stream",
     "text": [
      "403.0\n",
      "Guida dice : Perdo fiducia nel Learner\n",
      "s_26_23_19_2.pdb ha q value pari a 403.0 \n",
      "Learner : sto ragionando\n",
      "input =  (19, 19)\n",
      "X.shape\t (28, 19)\n",
      "Y.shape\t (28,)\n",
      "la mutazione selezionata è s_26_23_19_11.pdb\n",
      "epoch 28\n",
      "-----------------------------------Protein s_26_23_19_11         -----------------------------------\n",
      "Ionizing the structure for the simulation...\n"
     ]
    },
    {
     "name": "stderr",
     "output_type": "stream",
     "text": [
      "mv: cannot stat 'Dif_*.fxout': No such file or directory\n",
      "/usr/local/lib/vmd/vmd_LINUXAMD64: /lib/x86_64-linux-gnu/libGL.so.1: no version information available (required by /usr/local/lib/vmd/vmd_LINUXAMD64)\n",
      "/usr/local/lib/vmd/vmd_LINUXAMD64: /lib/x86_64-linux-gnu/libGL.so.1: no version information available (required by /usr/local/lib/vmd/vmd_LINUXAMD64)\n"
     ]
    },
    {
     "name": "stdout",
     "output_type": "stream",
     "text": [
      "Running the simulation...\n",
      "Computing the Q-value...\n"
     ]
    },
    {
     "name": "stderr",
     "output_type": "stream",
     "text": [
      "/usr/local/lib/vmd/vmd_LINUXAMD64: /lib/x86_64-linux-gnu/libGL.so.1: no version information available (required by /usr/local/lib/vmd/vmd_LINUXAMD64)\n"
     ]
    },
    {
     "name": "stdout",
     "output_type": "stream",
     "text": [
      "396.0\n",
      "Guida dice : Perdo fiducia nel Learner\n",
      "s_26_23_19_11.pdb ha q value pari a 396.0 \n",
      "Learner : sto ragionando\n",
      "input =  (19, 19)\n",
      "X.shape\t (29, 19)\n",
      "Y.shape\t (29,)\n",
      "la mutazione selezionata è s_26_23_19_9.pdb\n",
      "epoch 29\n",
      "-----------------------------------Protein s_26_23_19_9         -----------------------------------\n",
      "Ionizing the structure for the simulation...\n"
     ]
    },
    {
     "name": "stderr",
     "output_type": "stream",
     "text": [
      "mv: cannot stat 'Dif_*.fxout': No such file or directory\n",
      "/usr/local/lib/vmd/vmd_LINUXAMD64: /lib/x86_64-linux-gnu/libGL.so.1: no version information available (required by /usr/local/lib/vmd/vmd_LINUXAMD64)\n",
      "/usr/local/lib/vmd/vmd_LINUXAMD64: /lib/x86_64-linux-gnu/libGL.so.1: no version information available (required by /usr/local/lib/vmd/vmd_LINUXAMD64)\n"
     ]
    },
    {
     "name": "stdout",
     "output_type": "stream",
     "text": [
      "Running the simulation...\n",
      "Computing the Q-value...\n"
     ]
    },
    {
     "name": "stderr",
     "output_type": "stream",
     "text": [
      "/usr/local/lib/vmd/vmd_LINUXAMD64: /lib/x86_64-linux-gnu/libGL.so.1: no version information available (required by /usr/local/lib/vmd/vmd_LINUXAMD64)\n"
     ]
    },
    {
     "name": "stdout",
     "output_type": "stream",
     "text": [
      "390.0\n",
      "Guida dice : Perdo fiducia nel Learner\n",
      "s_26_23_19_9.pdb ha q value pari a 390.0 \n"
     ]
    }
   ],
   "source": [
    "def main_loop(debug_version = False):\n",
    "    P   =  P_0  = Protein(\"s.pdb\")         # genero l oggetto proteina\n",
    "    print(P.filename[:-4])\n",
    "    print(\"calculating q value of starting protein...\")\n",
    "    if not debug_version:\n",
    "        #P.compute_q_value() # commment this to avoid  a simulation at the beginning\n",
    "        P.q_value = 402\n",
    "    else:\n",
    "        P.q_value = 402\n",
    "    \n",
    "    print(\"%s ha q value pari a %s \" % (P.filename, P.q_value))\n",
    "\n",
    "    L           = Learner()\n",
    "    G           = Guide()\n",
    "    # genero il csv che descrive i pacchetti di informazine associati ai vicini sul lattice delle permutazioni\n",
    "    # costruisco le tabelle a partire dal csv appena generato\n",
    "    epochs = 30\n",
    "    proteina_nuova = True\n",
    "    #thresholds = np.linspace(1.5, 1., int((1.5 - 1.) / 0.05 + 1))\n",
    "    for i in range(epochs):\n",
    "        if proteina_nuova:\n",
    "            print(\"Obtaining neighbours info...\")\n",
    "            if not debug_version:\n",
    "                P.build_neighbors_on_mutation_lattice(1)\n",
    "            else:\n",
    "                0 # mutations.csv è gia presente\n",
    "            proteina_nuova = False\n",
    "        M,I = P.build_information_tables()\n",
    "        scores = L.predict(I)\n",
    "        choice = G.choose(scores)\n",
    "        selected_mutation             = '.'.join(M[choice].split(\".\")[:2])\n",
    "        print(\"la mutazione selezionata è %s\" % selected_mutation)\n",
    "        selected_mutation_information = I[choice]\n",
    "        P_new = Protein(selected_mutation)\n",
    "        old_qval = P.q_value \n",
    "        print(\"epoch %d\" % i )\n",
    "        if not debug_version:\n",
    "            P_new.compute_q_value()\n",
    "            delta_q = np.abs(old_qval - P_new.q_value)\n",
    "        else:\n",
    "            # sparo a caso un q value\n",
    "            P_new.q_value = P.q_value + int( (np.random.uniform() * 2 - 1.) * 50 )\n",
    "        if P_new.q_value <= P.q_value:\n",
    "            proteina_nuova = True\n",
    "            if P_new.q_value < P.q_value:\n",
    "                G.trust()\n",
    "            P = P_new\n",
    "        else:\n",
    "            G.untrust()\n",
    "        # I let the learner lear about the association\n",
    "        L.learn(selected_mutation_information, P_new.q_value)\n",
    "        \n",
    "        print(\"%s ha q value pari a %s \" % (P_new.filename, P_new.q_value))\n",
    "    return P_new\n",
    "    \n",
    "P_new = main_loop()"
   ]
  },
  {
   "cell_type": "code",
   "execution_count": 6,
   "id": "87fbd164",
   "metadata": {},
   "outputs": [
    {
     "data": {
      "text/plain": [
       "array([1.5 , 1.45, 1.4 , 1.35, 1.3 , 1.25, 1.2 , 1.15, 1.1 , 1.05, 1.  ])"
      ]
     },
     "execution_count": 6,
     "metadata": {},
     "output_type": "execute_result"
    }
   ],
   "source": [
    "import numpy as np\n",
    "np.linspace(1.5, 1., int((1.5 - 1.) / 0.05 + 1))"
   ]
  },
  {
   "cell_type": "code",
   "execution_count": null,
   "id": "4a286cd2-d0a6-40ff-a6f1-19b390946647",
   "metadata": {},
   "outputs": [],
   "source": []
  }
 ],
 "metadata": {
  "kernelspec": {
   "display_name": "Python 2",
   "language": "python",
   "name": "python2"
  },
  "language_info": {
   "codemirror_mode": {
    "name": "ipython",
    "version": 3
   },
   "file_extension": ".py",
   "mimetype": "text/x-python",
   "name": "python",
   "nbconvert_exporter": "python",
   "pygments_lexer": "ipython3",
   "version": "3.8.10"
  }
 },
 "nbformat": 4,
 "nbformat_minor": 5
}
