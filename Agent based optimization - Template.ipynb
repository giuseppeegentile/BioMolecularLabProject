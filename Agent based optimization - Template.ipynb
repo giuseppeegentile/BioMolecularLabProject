{
 "cells": [
  {
   "cell_type": "markdown",
   "id": "7afd6bda",
   "metadata": {},
   "source": [
    "# $\\mathscr P$ space\n",
    "OOP description of the space of proteins"
   ]
  },
  {
   "cell_type": "code",
   "execution_count": 6,
   "id": "a9534ad7",
   "metadata": {},
   "outputs": [],
   "source": [
    "class Protein:\n",
    "    def __init__():\n",
    "        0\n",
    "    def mutation(param):\n",
    "        0"
   ]
  },
  {
   "cell_type": "markdown",
   "id": "0946d6c8",
   "metadata": {},
   "source": [
    "# $H_t : \\mathscr P \\rightarrow \\mathscr P$\n",
    "Function that takes a protein as input and returns it after heat stress"
   ]
  },
  {
   "cell_type": "code",
   "execution_count": 4,
   "id": "ac1ba538",
   "metadata": {},
   "outputs": [],
   "source": [
    "def H(protein):\n",
    "    return protein                        # TODO"
   ]
  },
  {
   "cell_type": "markdown",
   "id": "64d80b74",
   "metadata": {},
   "source": [
    "# $g : \\mathscr P \\rightarrow \\mathscr I$\n",
    "Function that returns the <b>$\\Delta E$</b>"
   ]
  },
  {
   "cell_type": "code",
   "execution_count": 5,
   "id": "d76f4879",
   "metadata": {},
   "outputs": [],
   "source": [
    "def g(protein):\n",
    "    return 0.                            # TODO"
   ]
  },
  {
   "cell_type": "markdown",
   "id": "a37de577",
   "metadata": {},
   "source": [
    "# Learner\n",
    "Agent able to learn from experience"
   ]
  },
  {
   "cell_type": "code",
   "execution_count": 18,
   "id": "9a0a8574",
   "metadata": {},
   "outputs": [],
   "source": [
    "import numpy as np\n",
    "class Learner:\n",
    "    def __init__(self):\n",
    "        self.X = np.array([])\n",
    "        self.Y = np.array([])\n",
    "    def learn(self,x,y):\n",
    "        if len(self.X) == 0:\n",
    "            # first entry\n",
    "            self.X = (x * 1)[None,:]\n",
    "            self.Y = y * 1\n",
    "        else:\n",
    "            self.X = np.r_[self.X,x[None,:]]\n",
    "            self.Y = np.r_[self.Y,y]\n",
    "    def predict(self,x):\n",
    "        return self.X,self.Y"
   ]
  },
  {
   "cell_type": "code",
   "execution_count": 21,
   "id": "27fe6681",
   "metadata": {},
   "outputs": [
    {
     "data": {
      "text/plain": [
       "(array([[1.09687392, 0.70368307],\n",
       "        [0.24937474, 0.18462425],\n",
       "        [0.85485559, 0.21770373]]),\n",
       " array([1, 1, 2]))"
      ]
     },
     "execution_count": 21,
     "metadata": {},
     "output_type": "execute_result"
    }
   ],
   "source": [
    "L = Learner()\n",
    "L.learn(np.random.randn(2),1)\n",
    "L.learn(np.random.randn(2),1)\n",
    "L.learn(np.random.randn(2),2)\n",
    "L.predict(0)"
   ]
  },
  {
   "cell_type": "markdown",
   "id": "1fc9c7e3",
   "metadata": {},
   "source": [
    "# Guide\n",
    "Agent who drives the configuration exploration, modulating the trust wrt the Learner"
   ]
  },
  {
   "cell_type": "code",
   "execution_count": 22,
   "id": "7a1d61ce",
   "metadata": {},
   "outputs": [],
   "source": [
    "class Guide:\n",
    "    def __init__(self):\n",
    "        self.eta = 1.\n",
    "        \n",
    "    def trust():\n",
    "        self.eta *= 1.1          # if I build trust, the \"confidence in the learner\" increase\n",
    "        \n",
    "    def untrust():\n",
    "        self.eta *= 0.9          # if I disappoint you, otherwise...\n",
    "\n",
    "        \n",
    "    def softmax(probabilityDistribution):\n",
    "        # returns the homotopied probability distribution\n",
    "        \n",
    "        return np.exp(probabilityDistribution)** self.eta / (np.exp(probabilityDistribution) ** self.eta).sum()\n",
    "\n",
    "    def choose(probabilityDistribution):\n",
    "        # takes as input a probability distribution and \"homotopies\" it with the uniform distribution\n",
    "        # according to its trust.\n",
    "        # returns the extracted index\n",
    "        \n",
    "        P = softmax(probabilityDistribution)\n",
    "        return np.random.choice(len(P),P)"
   ]
  },
  {
   "cell_type": "markdown",
   "id": "85c93db1",
   "metadata": {},
   "source": [
    "# Team\n",
    "Class that models the cooperative system between the le"
   ]
  }
 ],
 "metadata": {
  "kernelspec": {
   "display_name": "Python 3 (ipykernel)",
   "language": "python",
   "name": "python3"
  },
  "language_info": {
   "codemirror_mode": {
    "name": "ipython",
    "version": 3
   },
   "file_extension": ".py",
   "mimetype": "text/x-python",
   "name": "python",
   "nbconvert_exporter": "python",
   "pygments_lexer": "ipython3",
   "version": "3.9.7"
  }
 },
 "nbformat": 4,
 "nbformat_minor": 5
}
