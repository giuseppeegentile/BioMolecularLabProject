{
 "cells": [
  {
   "cell_type": "markdown",
   "id": "84267f57",
   "metadata": {},
   "source": [
    "# $\\mathscr I$ space\n",
    "Space that models the information packet associated with a protein"
   ]
  },
  {
   "cell_type": "code",
   "execution_count": 33,
   "id": "70c2a747",
   "metadata": {},
   "outputs": [],
   "source": [
    "class Information:\n",
    "    def __init__(self, tupla):\n",
    "        self.tupla = tupla\n",
    "        \n",
    "    def print():\n",
    "        print(self.tupla)\n",
    "        \n",
    "    def vectorize():\n",
    "        return np.array(self.tupla)   "
   ]
  },
  {
   "cell_type": "markdown",
   "id": "4ab52766",
   "metadata": {},
   "source": [
    "# $\\mathscr M$ set\n",
    "OOP description of the set of possible mutations"
   ]
  },
  {
   "cell_type": "code",
   "execution_count": 34,
   "id": "bd8f6605",
   "metadata": {},
   "outputs": [],
   "source": [
    "class Mutation:\n",
    "    def __init__(self, descriptor):\n",
    "        self.descriptor = descriptor"
   ]
  },
  {
   "cell_type": "markdown",
   "id": "e195abff",
   "metadata": {},
   "source": [
    "# $\\mathscr P$ space\n",
    "OOP description of the space of proteins\n",
    "<center><h1><b>Content (functions acting on $\\mathscr P$)</b></h1></center>\n",
    "<ul>\n",
    "    <li><code>compute_q_value</code> : $\\mathscr P \\rightarrow \\mathbb R_+$</li>\n",
    "    computes the <i>q value</i> of the protein, performing the simulation. The result is then stored into the variable         <code>q_value</code>\n",
    "    <li><code>mutate</code> : $\\mathscr P \\times \\mathscr M \\rightarrow \\mathscr P$</li>\n",
    "    produce a new protein, starting from the current one and the mutation requested\n",
    "    <li><code>information_neighbors</code> : $\\mathscr p \\mapsto \\{ (\\mathscr q,I_{\\mathscr q}) \\}_{\\mathscr q \\in \\mathcal N(\\mathscr p)}$ </li>\n",
    "    returns a mapping that associates each neighbor on the <i>protein lattice</i> with an information packet in the set $\\mathscr I$\n",
    "</ul>"
   ]
  },
  {
   "cell_type": "code",
   "execution_count": 36,
   "id": "7dcd6756",
   "metadata": {},
   "outputs": [],
   "source": [
    "class Protein:\n",
    "    def __init__(self):\n",
    "        self.q_value = None        # unitialized q value\n",
    "        self.possible_mutations = [\n",
    "            Mutation(0) , # 1 mutation\n",
    "            Mutation(1)   # 2 mutation\n",
    "            # ...\n",
    "        ]\n",
    "        # set of available_mutations\n",
    "    def mutate(self,param):\n",
    "        # returns a copy of the current protein \n",
    "        # with the requested mutation\n",
    "        return self\n",
    "    def information_neighbors(self):\n",
    "        # returns a dictionary that associate each neighbors of the current protein \n",
    "        # in the mutation lattice with an information packet\n",
    "        # e.g.\n",
    "        #          Protein2J47.information_neighbors() ==> { 'mutation_1' : (I^1_1,I^1_2,...), 'mutation_2' : (...),.. }\n",
    "        # initialize the dictionary\n",
    "        ret = {}\n",
    "                                    ##########################\n",
    "        # populate the dictionary   #  TODO TODO TODO TODO   # \n",
    "        # ...                       #  TODO TODO TODO TODO   #\n",
    "                                    ##########################\n",
    "        # return the dictionary\n",
    "        return ret\n",
    "    \n",
    "    #########################################################################################################\n",
    "    \n",
    "    def compute_q_value(self):            # TODO \n",
    "        # initializes the q value\n",
    "        self.q_value = np.random.randn()\n",
    "        \n",
    "    def get_q_value(self):\n",
    "        return self.q_value\n",
    "\n",
    "    #########################################################################################################"
   ]
  },
  {
   "cell_type": "markdown",
   "id": "4e14a712",
   "metadata": {},
   "source": [
    "# Learner\n",
    "Agent able to learn from experience"
   ]
  },
  {
   "cell_type": "code",
   "execution_count": 39,
   "id": "8c869fcb",
   "metadata": {},
   "outputs": [],
   "source": [
    "import numpy as np\n",
    "class Learner:\n",
    "    def __init__(self):\n",
    "        self.X = np.array([])\n",
    "        self.Y = np.array([])\n",
    "    def learn(self,x,y):\n",
    "        if len(self.X) == 0:\n",
    "            # first entry\n",
    "            self.X = (x * 1)[None,:]\n",
    "            self.Y = y * 1\n",
    "        else:\n",
    "            self.X = np.r_[self.X,x[None,:]]\n",
    "            self.Y = np.r_[self.Y,y]\n",
    "    def predict(self,x):\n",
    "        # prediction function...\n",
    "        return self.X,self.Y"
   ]
  },
  {
   "cell_type": "code",
   "execution_count": 40,
   "id": "2f908edf",
   "metadata": {},
   "outputs": [
    {
     "data": {
      "text/plain": [
       "(array([[-0.15500318,  1.98816421],\n",
       "        [ 0.10748642, -1.01707568],\n",
       "        [ 0.42173699, -0.23829369]]),\n",
       " array([1, 1, 2]))"
      ]
     },
     "execution_count": 40,
     "metadata": {},
     "output_type": "execute_result"
    }
   ],
   "source": [
    "L = Learner()\n",
    "L.learn(np.random.randn(2),1)\n",
    "L.learn(np.random.randn(2),1)\n",
    "L.learn(np.random.randn(2),2)\n",
    "L.predict(0)"
   ]
  },
  {
   "cell_type": "markdown",
   "id": "1fa13000",
   "metadata": {},
   "source": [
    "# Guide\n",
    "Agent who drives the configuration exploration, modulating the trust wrt the Learner"
   ]
  },
  {
   "cell_type": "code",
   "execution_count": 41,
   "id": "327a3c2f",
   "metadata": {},
   "outputs": [],
   "source": [
    "class Guide:\n",
    "    def __init__(self):\n",
    "        self.eta = 1.\n",
    "        \n",
    "    def trust():\n",
    "        self.eta *= 1.1          # if I build trust, the \"confidence in the learner\" increase\n",
    "        \n",
    "    def untrust():\n",
    "        self.eta *= 0.9          # if I disappoint you, otherwise...\n",
    "\n",
    "        \n",
    "    def softmax(probabilityDistribution):\n",
    "        # returns the homotopied probability distribution\n",
    "        \n",
    "        return np.exp(probabilityDistribution)** self.eta / (np.exp(probabilityDistribution) ** self.eta).sum()\n",
    "\n",
    "    def choose(probabilityDistribution):\n",
    "        # takes as input a probability distribution and \"homotopies\" it with the uniform distribution\n",
    "        # according to its trust.\n",
    "        # returns the extracted index\n",
    "        \n",
    "        P = softmax(probabilityDistribution)\n",
    "        return np.random.choice(len(P),P)"
   ]
  },
  {
   "cell_type": "markdown",
   "id": "ff67f5da",
   "metadata": {},
   "source": [
    "# Team\n",
    "Class that models the cooperative system between the learner and the guide"
   ]
  },
  {
   "cell_type": "code",
   "execution_count": 46,
   "id": "7f7ff3ec",
   "metadata": {},
   "outputs": [],
   "source": [
    "class Team:\n",
    "    def __init__(self):\n",
    "        self.G = Guide()\n",
    "        self.L = Learner()\n",
    "        \n",
    "    def optimize(self,protein):\n",
    "        protein.compute_q_value()                                                # compute the q value of the input protein\n",
    "        for i in range(100):                                                     # loop\n",
    "            information_neighbors    =  protein.information_neighbors()          # map each neighbour with an information packet\n",
    "            probability_distribution =  self.L.predict(information_neighbors)    # returns a dictionary that associate each mutation with a probability distribution\n",
    "            selected_mutation        =  self.G.choose(probability_distribution)  # select the next mutation according to the learner's opinion\n",
    "            \n",
    "            new_protein              =  protein.mutate(selected_mutation)        # performs the mutation\n",
    "            new_protein.compute_q_value()                                        # compute the q value for the current mutation\n",
    "            \n",
    "            self.L.learn(                                                        # give to the Learner the knowledge about \n",
    "                    information_neighbors[selected_mutation],                    # the mapping between chosen mutation information packet\n",
    "                    new_protein.get_q_value()                                    # and the q value associated to the chosen mutation\n",
    "            )\n",
    "            \n",
    "            if( new_protein.get_q_value() <= protein.get_q_value() ):            # greedy descent\n",
    "                protein = new_protein                                            # since q value has been computed for new_protein it's stored in new_protein and therefore at this point in the protein\n",
    "                self.G.trust()                                                   # builds trust between guide and learner\n",
    "            else:\n",
    "                self.G.untrust()                                                 # damages trust between guide and learner\n",
    "            print( protein.get_q_value() )"
   ]
  },
  {
   "cell_type": "code",
   "execution_count": 47,
   "id": "ecf9592b",
   "metadata": {},
   "outputs": [
    {
     "data": {
      "text/plain": [
       "array([1, 2, 3])"
      ]
     },
     "execution_count": 47,
     "metadata": {},
     "output_type": "execute_result"
    }
   ],
   "source": [
    "import numpy as np\n",
    "np.array((1,2,3))"
   ]
  },
  {
   "cell_type": "code",
   "execution_count": null,
   "id": "5b0f2389",
   "metadata": {},
   "outputs": [],
   "source": []
  },
  {
   "cell_type": "code",
   "execution_count": null,
   "id": "2fff8e6a",
   "metadata": {},
   "outputs": [],
   "source": []
  }
 ],
 "metadata": {
  "kernelspec": {
   "display_name": "Python 3 (ipykernel)",
   "language": "python",
   "name": "python3"
  },
  "language_info": {
   "codemirror_mode": {
    "name": "ipython",
    "version": 3
   },
   "file_extension": ".py",
   "mimetype": "text/x-python",
   "name": "python",
   "nbconvert_exporter": "python",
   "pygments_lexer": "ipython3",
   "version": "3.9.7"
  }
 },
 "nbformat": 4,
 "nbformat_minor": 5
}
