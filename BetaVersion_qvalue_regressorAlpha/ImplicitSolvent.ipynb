{
 "cells": [
  {
   "cell_type": "markdown",
   "id": "ed23cff7",
   "metadata": {},
   "source": [
    "# $\\mathscr I$ space\n",
    "Space that models the information packet associated with a protein"
   ]
  },
  {
   "cell_type": "code",
   "execution_count": 46,
   "id": "bb4db61b",
   "metadata": {},
   "outputs": [],
   "source": [
    "class Information:\n",
    "    def __init__(self, tupla):\n",
    "        self.tupla = tupla\n",
    "        \n",
    "    def print():\n",
    "        print(self.tupla)\n",
    "        \n",
    "    def vectorize():\n",
    "        return np.array(self.tupla)   "
   ]
  },
  {
   "cell_type": "markdown",
   "id": "e2ef3938",
   "metadata": {},
   "source": [
    "# $\\mathscr M$ set\n",
    "OOP description of the set of possible mutations"
   ]
  },
  {
   "cell_type": "code",
   "execution_count": 47,
   "id": "ce721f04",
   "metadata": {},
   "outputs": [],
   "source": [
    "class Mutation:\n",
    "    def __init__(self, descriptor):\n",
    "        self.descriptor = descriptor"
   ]
  },
  {
   "cell_type": "markdown",
   "id": "d5d6da4e",
   "metadata": {},
   "source": [
    "# $\\mathscr P$ space\n",
    "OOP description of the space of proteins\n",
    "<center><h1><b>Content (functions acting on $\\mathscr P$)</b></h1></center>\n",
    "<ul>\n",
    "    <li><code>compute_q_value</code> : $\\mathscr P \\rightarrow \\mathbb R_+$</li>\n",
    "    computes the <i>q value</i> of the protein, performing the simulation. The result is then stored into the variable         <code>q_value</code>\n",
    "    <li><code>mutate</code> : $\\mathscr P \\times \\mathscr M \\rightarrow \\mathscr P$</li>\n",
    "    produce a new protein, starting from the current one and the mutation requested\n",
    "    <li><code>information_neighbors</code> : $\\mathscr p \\mapsto \\{ (\\mathscr q,I_{\\mathscr q}) \\}_{\\mathscr q \\in \\mathcal N(\\mathscr p)}$ </li>\n",
    "    returns a mapping that associates each neighbor on the <i>protein lattice</i> with an information packet in the set $\\mathscr I$\n",
    "</ul>"
   ]
  },
  {
   "cell_type": "markdown",
   "id": "2ff70a2c-eceb-4dfa-8e73-20840c299275",
   "metadata": {},
   "source": [
    "# Regressor for Q value"
   ]
  },
  {
   "cell_type": "code",
   "execution_count": 48,
   "id": "8049a466-34dd-458f-81f1-a1cf325accdf",
   "metadata": {},
   "outputs": [],
   "source": [
    "import jax\n",
    "import jax.numpy as jnp\n",
    "import numpy as np\n",
    "import matplotlib.pyplot as plt\n",
    "\n",
    "def model(t, w, b):\n",
    "    return  (1 - b) * jnp.exp(- w * t ) + b\n",
    "\n",
    "def loss(w,b,t,X):\n",
    "    means     = model(t,w,b)\n",
    "    variances = model(t,w,b)**2\n",
    "    return ((means - X)**2 / variances ).mean()\n",
    "    \n",
    "loss = jax.jit(loss)\n",
    "grad = jax.grad(loss,argnums = (0,1))\n",
    "grad = jax.jit(grad)\n",
    "\n",
    "def optimize(X):\n",
    "    w = 0.5\n",
    "    b = X[-1]\n",
    "    lr = 1e-3\n",
    "    batch = 100\n",
    "    T = np.linspace(0,5, len(X))\n",
    "    for i in range(batch * 10):\n",
    "        g = grad(w,b,T,X)\n",
    "        new_w = w - lr * g[0]\n",
    "        new_b = b - lr * g[1]\n",
    "        \n",
    "        if loss(new_w,new_b,T,X) <= loss(w,b,T,X):\n",
    "            lr *= 1.1\n",
    "            w = new_w\n",
    "            b = new_b\n",
    "        else:\n",
    "            lr *= 0.5\n",
    "        if i % batch == 0:\n",
    "            print(loss(w,b,T,X))\n",
    "    return b\n"
   ]
  },
  {
   "cell_type": "markdown",
   "id": "959adf0f",
   "metadata": {},
   "source": [
    "# V2: using BuildModel for mutations"
   ]
  },
  {
   "cell_type": "code",
   "execution_count": 49,
   "id": "89e4cf24",
   "metadata": {},
   "outputs": [],
   "source": [
    "import os\n",
    "import pandas as pd\n",
    "import subprocess\n",
    "class Protein:\n",
    "    instances = 0\n",
    "    \n",
    "    def __init__(self, filename):\n",
    "        self.filename = filename\n",
    "        self.q_value  = None                               # unitialized q value\n",
    "        # set of available_mutations\n",
    "    def build_neighbors_on_mutation_lattice(self, threshold): # build the lattices based on the ALA threshold's Gibbs free energy\n",
    "        # generate config file with possible mutations for the current protein\n",
    "        os.system(\"python3 mutation_generator.py \" + self.filename + \" \" + str(threshold))\n",
    "        # Protein.instances += 1 ## questo sarebbe da gestire in un altro modo\n",
    "\n",
    "        # mutate the protein \n",
    "        print(\"Generating  mutated pdbs...\")\n",
    "        msg = subprocess.run([\"foldx_20231231 --command=BuildModel --pdb=\" + (self.filename) + \" --mutant-file=individual_list.txt > mutation_output.txt\"], shell = True)\n",
    " \n",
    "        print(msg)\n",
    "        return self\n",
    "\n",
    "    def build_information_tables(self):\n",
    "        os.system(\"mv Dif_*.fxout mutation.csv\") # use the csv format instead of the one of foldx\n",
    "        X = pd.read_csv(\"mutation.csv\", sep='\\t',skiprows=8).to_numpy()\n",
    "        # information packet\n",
    "        I = X[:,2:21]\n",
    "\n",
    "        # mutations\n",
    "        M = X[:,0] + \".pdb\" # add the suffix for the pdb type, used for the simulation name\n",
    "        \n",
    "        I = I.astype(float)\n",
    "        return M,I\n",
    "    \n",
    "    def compute_q_value(self):      # note: this is a batch, run always this scripts as a whole    \n",
    "        print(\"-----------------------------------Protein %s         -----------------------------------\" %self.filename[:-4])\n",
    "        print(\"Ionizing the structure for the simulation...\")\n",
    "        subprocess.run([\"python3 protein_ionization.py \" + self.filename], shell=True, stdout = subprocess.DEVNULL)\n",
    "        \n",
    "        print(\"Running the simulation...\")\n",
    "        subprocess.run([\"python3 launch_simulation.py \" + self.filename ], shell=True, stdout = subprocess.DEVNULL)\n",
    "        print(\"Computing the Q-value...\")\n",
    "        # this stores a qvalues.npy with the qvalues for each frame of the simulaition\n",
    "        proc = subprocess.run([\"python3 evaluate_qvalue.py\"], shell=True, stdout = subprocess.PIPE) \n",
    "\n",
    "        ######################################################################################################\n",
    "        #                                                                                                    #  \n",
    "        #                        regressione da implementare                                                 #\n",
    "        ######################################################################################################\n",
    "        X = np.array([])\n",
    "        with open('qvalues.npy', 'rb') as f:\n",
    "            X = np.load(f)\n",
    "        \n",
    "        self.q_value = optimize(X)\n",
    "        #print(proc.stdout)\n",
    "        print(self.q_value)"
   ]
  },
  {
   "cell_type": "markdown",
   "id": "4aeace61",
   "metadata": {},
   "source": [
    "# Learner\n",
    "Agent able to learn from experience"
   ]
  },
  {
   "cell_type": "code",
   "execution_count": 50,
   "id": "a256d3ea",
   "metadata": {},
   "outputs": [],
   "source": [
    "import numpy as np\n",
    "class Learner:\n",
    "    #################################################################\n",
    "    def __init__(self, data_collection = 2): ######################## this is temporary: must increase data_collection in further developments\n",
    "    #################################################################\n",
    "        self.X               = np.array([])\n",
    "        self.Y               = np.array([])\n",
    "        self.data_collection = data_collection\n",
    "    def learn(self,x,y):\n",
    "        if len(self.X) == 0:\n",
    "            # first entry\n",
    "            self.X = (x * 1)[None,:]\n",
    "            self.Y = y * 1\n",
    "        else:\n",
    "            self.X = np.r_[self.X,x[None,:]]\n",
    "            self.Y = np.r_[self.Y,y]\n",
    "            self.X = self.X[-100:]\n",
    "            self.Y = self.Y[-100:]\n",
    "        #print(\"I know %d things\" % self.X.shape[0] )\n",
    "    def predict(self,x):\n",
    "        # prediction function...\n",
    "        if len(self.X) < self.data_collection:                    # if i have not enough data\n",
    "            print(\"Learner : sto sparando a caso\")\n",
    "            return np.random.randn(len(x))\n",
    "        else:\n",
    "                print(\"Learner : sto ragionando\")\n",
    "\n",
    "                print(\"input = \" ,x.shape)\n",
    "                print(\"X.shape\\t\",self.X.shape)\n",
    "                print(\"Y.shape\\t\",self.Y.shape)\n",
    "            \n",
    "                k       = lambda x,y : (1 + x@y)**2 #np.exp( - (x - y)@(x - y) )\n",
    "            \n",
    "                K_train = np.array([\n",
    "                    [\n",
    "                            k(a,b)\n",
    "                        for b in self.X\n",
    "                    ]\n",
    "                    for a in self.X\n",
    "                ])\n",
    "                K_in    = np.array([\n",
    "                    [\n",
    "                            k(a,b)\n",
    "                        for b in self.X\n",
    "                    ]\n",
    "                    for a in x\n",
    "                ])\n",
    "                return K_in @ np.linalg.solve( K_train + 1e-3 * np.eye(len(K_train)), self.Y)"
   ]
  },
  {
   "cell_type": "markdown",
   "id": "3bc11f31",
   "metadata": {},
   "source": [
    "# Guide\n",
    "Agent who drives the configuration exploration, modulating the trust wrt the Learner"
   ]
  },
  {
   "cell_type": "code",
   "execution_count": 51,
   "id": "30ccda2f",
   "metadata": {},
   "outputs": [],
   "source": [
    "class Guide:\n",
    "    def __init__(self):\n",
    "        self.eta = 5.\n",
    "        \n",
    "    def trust(self):\n",
    "        print(\"Guida dice : Costruisco fiducia nel Learner\")\n",
    "        if self.eta < 50:\n",
    "            self.eta *= 1.1          # if I build trust, the \"confidence in the learner\" increase\n",
    "        \n",
    "    def untrust(self):\n",
    "        print(\"Guida dice : Perdo fiducia nel Learner\")\n",
    "        self.eta *= 1./1.1          # if I disappoint you, otherwise...\n",
    "\n",
    "        \n",
    "    def softmax(self,probabilityDistribution):\n",
    "        # returns the homotopied probability distribution\n",
    "        \n",
    "        return np.exp(probabilityDistribution)** self.eta / (np.exp(probabilityDistribution) ** self.eta).sum()\n",
    "\n",
    "    def choose(self,probabilityDistribution):\n",
    "        # takes as input a probability distribution and \"homotopies\" it with the uniform distribution\n",
    "        # according to its trust.\n",
    "        # returns the extracted index\n",
    "        normalize               = lambda x : (x - x.min())/(x.max() - x.min())\n",
    "        probabilityDistribution = 1 - normalize(probabilityDistribution)\n",
    "        P = self.softmax(probabilityDistribution)\n",
    "        return np.random.choice(len(P),p = P)"
   ]
  },
  {
   "cell_type": "markdown",
   "id": "0c5a2b72",
   "metadata": {},
   "source": [
    "# Team\n",
    "Class that models the cooperative system between the learner and the guide"
   ]
  },
  {
   "cell_type": "code",
   "execution_count": 52,
   "id": "7bbef261",
   "metadata": {},
   "outputs": [],
   "source": [
    "class Team:\n",
    "    def __init__(self):\n",
    "        self.G = Guide()\n",
    "        self.L = Learner()\n",
    "        \n",
    "    def optimize(self,protein):\n",
    "        protein.compute_q_value()                                                # compute the q value of the input protein\n",
    "        for i in range(100):                                                     # loop\n",
    "            information_neighbors    =  protein.information_neighbors()          # map each neighbour with an information packet\n",
    "            probability_distribution =  self.L.predict(information_neighbors)    # returns a dictionary that associate each mutation with a probability distribution\n",
    "            selected_mutation        =  self.G.choose(probability_distribution)  # select the next mutation according to the learner's opinion\n",
    "            \n",
    "            new_protein              =  protein.mutate(selected_mutation)        # performs the mutation\n",
    "            new_protein.compute_q_value()                                        # compute the q value for the current mutation\n",
    "            \n",
    "            self.L.learn(                                                        # give to the Learner the knowledge about \n",
    "                    information_neighbors[selected_mutation],                    # the mapping between chosen mutation information packet\n",
    "                    new_protein.get_q_value()                                    # and the q value associated to the chosen mutation\n",
    "            )\n",
    "            \n",
    "            if( new_protein.get_q_value() <= protein.get_q_value() ):            # greedy descent\n",
    "                protein = new_protein                                            # since q value has been computed for new_protein it's stored in new_protein and therefore at this point in the protein\n",
    "                self.G.trust()                                                   # builds trust between guide and learner\n",
    "            else:\n",
    "                self.G.untrust()                                                 # damages trust between guide and learner\n",
    "            print( protein.get_q_value() )"
   ]
  },
  {
   "cell_type": "markdown",
   "id": "9f1107fb",
   "metadata": {},
   "source": [
    "# main"
   ]
  },
  {
   "cell_type": "code",
   "execution_count": 53,
   "id": "2985a2c1",
   "metadata": {
    "scrolled": true
   },
   "outputs": [
    {
     "name": "stdout",
     "output_type": "stream",
     "text": [
      "s\n",
      "calculating q value of starting protein...\n",
      "s.pdb ha q value pari a 402 \n",
      "Obtaining neighbours info...\n",
      "   ********************************************\n",
      "   ***                                      ***\n",
      "   ***             FoldX 5 (c)              ***\n",
      "   ***                                      ***\n",
      "   ***     code by the FoldX Consortium     ***\n",
      "   ***                                      ***\n",
      "   ***     Jesper Borg, Frederic Rousseau   ***\n",
      "   ***    Joost Schymkowitz, Luis Serrano   ***\n",
      "   ***    Peter Vanhee, Erik Verschueren    ***\n",
      "   ***     Lies Baeten, Javier Delgado      ***\n",
      "   ***       and Francois Stricher          ***\n",
      "   *** and any other of the 9! permutations ***\n",
      "   ***   based on an original concept by    ***\n",
      "   ***   Raphael Guerois and Luis Serrano   ***\n",
      "   ********************************************\n",
      "\n",
      "Start FoldX AlaScan >>>\n",
      "\n",
      "1 models read: s.pdb\n",
      "s\n",
      "Your file run OK\n",
      "End time of FoldX: Mon Nov 27 19:17:58 2023\n",
      "Total time spend: 1.10724 seconds.\n",
      "Total mutations (reduced for this attempt to save time): 38\n",
      "Generating  mutated pdbs...\n",
      "CompletedProcess(args=['foldx_20231231 --command=BuildModel --pdb=s.pdb --mutant-file=individual_list.txt > mutation_output.txt'], returncode=0)\n",
      "Learner : sto sparando a caso\n",
      "la mutazione selezionata è s_32.pdb\n",
      "epoch 0\n",
      "-----------------------------------Protein s_32         -----------------------------------\n",
      "Ionizing the structure for the simulation...\n"
     ]
    },
    {
     "name": "stderr",
     "output_type": "stream",
     "text": [
      "/usr/local/lib/vmd/vmd_LINUXAMD64: /lib/x86_64-linux-gnu/libGL.so.1: no version information available (required by /usr/local/lib/vmd/vmd_LINUXAMD64)\n",
      "/usr/local/lib/vmd/vmd_LINUXAMD64: /lib/x86_64-linux-gnu/libGL.so.1: no version information available (required by /usr/local/lib/vmd/vmd_LINUXAMD64)\n"
     ]
    },
    {
     "name": "stdout",
     "output_type": "stream",
     "text": [
      "Running the simulation...\n",
      "Computing the Q-value...\n"
     ]
    },
    {
     "name": "stderr",
     "output_type": "stream",
     "text": [
      "/usr/local/lib/vmd/vmd_LINUXAMD64: /lib/x86_64-linux-gnu/libGL.so.1: no version information available (required by /usr/local/lib/vmd/vmd_LINUXAMD64)\n"
     ]
    },
    {
     "name": "stdout",
     "output_type": "stream",
     "text": [
      "9815.874\n",
      "9812.46\n",
      "9812.45\n",
      "9812.45\n",
      "9812.45\n",
      "9812.45\n",
      "9812.45\n",
      "9812.45\n",
      "9812.45\n",
      "9812.45\n",
      "382.21375\n",
      "Guida dice : Costruisco fiducia nel Learner\n",
      "s_32.pdb ha q value pari a 382.21375 \n",
      "Obtaining neighbours info...\n",
      "   ********************************************\n",
      "   ***                                      ***\n",
      "   ***             FoldX 5 (c)              ***\n",
      "   ***                                      ***\n",
      "   ***     code by the FoldX Consortium     ***\n",
      "   ***                                      ***\n",
      "   ***     Jesper Borg, Frederic Rousseau   ***\n",
      "   ***    Joost Schymkowitz, Luis Serrano   ***\n",
      "   ***    Peter Vanhee, Erik Verschueren    ***\n",
      "   ***     Lies Baeten, Javier Delgado      ***\n",
      "   ***       and Francois Stricher          ***\n",
      "   *** and any other of the 9! permutations ***\n",
      "   ***   based on an original concept by    ***\n",
      "   ***   Raphael Guerois and Luis Serrano   ***\n",
      "   ********************************************\n",
      "\n",
      "Start FoldX AlaScan >>>\n",
      "\n",
      "1 models read: s_32.pdb\n",
      "s_32\n",
      "Your file run OK\n",
      "End time of FoldX: Mon Nov 27 19:23:57 2023\n",
      "Total time spend: 1.06241 seconds.\n",
      "Total mutations (reduced for this attempt to save time): 38\n",
      "Generating  mutated pdbs...\n",
      "CompletedProcess(args=['foldx_20231231 --command=BuildModel --pdb=s_32.pdb --mutant-file=individual_list.txt > mutation_output.txt'], returncode=0)\n",
      "Learner : sto sparando a caso\n",
      "la mutazione selezionata è s_32_11.pdb\n",
      "epoch 1\n",
      "-----------------------------------Protein s_32_11         -----------------------------------\n",
      "Ionizing the structure for the simulation...\n"
     ]
    },
    {
     "name": "stderr",
     "output_type": "stream",
     "text": [
      "/usr/local/lib/vmd/vmd_LINUXAMD64: /lib/x86_64-linux-gnu/libGL.so.1: no version information available (required by /usr/local/lib/vmd/vmd_LINUXAMD64)\n",
      "/usr/local/lib/vmd/vmd_LINUXAMD64: /lib/x86_64-linux-gnu/libGL.so.1: no version information available (required by /usr/local/lib/vmd/vmd_LINUXAMD64)\n"
     ]
    },
    {
     "name": "stdout",
     "output_type": "stream",
     "text": [
      "Running the simulation...\n",
      "Computing the Q-value...\n"
     ]
    },
    {
     "name": "stderr",
     "output_type": "stream",
     "text": [
      "/usr/local/lib/vmd/vmd_LINUXAMD64: /lib/x86_64-linux-gnu/libGL.so.1: no version information available (required by /usr/local/lib/vmd/vmd_LINUXAMD64)\n"
     ]
    },
    {
     "name": "stdout",
     "output_type": "stream",
     "text": [
      "10039.211\n",
      "10035.214\n",
      "10035.201\n",
      "10035.201\n",
      "10035.201\n",
      "10035.201\n",
      "10035.201\n",
      "10035.201\n",
      "10035.201\n",
      "10035.201\n",
      "374.03833\n",
      "Guida dice : Costruisco fiducia nel Learner\n",
      "s_32_11.pdb ha q value pari a 374.03833 \n",
      "Obtaining neighbours info...\n",
      "   ********************************************\n",
      "   ***                                      ***\n",
      "   ***             FoldX 5 (c)              ***\n",
      "   ***                                      ***\n",
      "   ***     code by the FoldX Consortium     ***\n",
      "   ***                                      ***\n",
      "   ***     Jesper Borg, Frederic Rousseau   ***\n",
      "   ***    Joost Schymkowitz, Luis Serrano   ***\n",
      "   ***    Peter Vanhee, Erik Verschueren    ***\n",
      "   ***     Lies Baeten, Javier Delgado      ***\n",
      "   ***       and Francois Stricher          ***\n",
      "   *** and any other of the 9! permutations ***\n",
      "   ***   based on an original concept by    ***\n",
      "   ***   Raphael Guerois and Luis Serrano   ***\n",
      "   ********************************************\n",
      "\n",
      "Start FoldX AlaScan >>>\n",
      "\n",
      "1 models read: s_32_11.pdb\n",
      "s_32_11\n",
      "Your file run OK\n",
      "End time of FoldX: Mon Nov 27 19:29:50 2023\n",
      "Total time spend: 1.06543 seconds.\n",
      "Total mutations (reduced for this attempt to save time): 38\n",
      "Generating  mutated pdbs...\n",
      "CompletedProcess(args=['foldx_20231231 --command=BuildModel --pdb=s_32_11.pdb --mutant-file=individual_list.txt > mutation_output.txt'], returncode=0)\n",
      "Learner : sto ragionando\n",
      "input =  (38, 19)\n",
      "X.shape\t (2, 19)\n",
      "Y.shape\t (2,)\n",
      "la mutazione selezionata è s_32_11_36.pdb\n",
      "epoch 2\n",
      "-----------------------------------Protein s_32_11_36         -----------------------------------\n",
      "Ionizing the structure for the simulation...\n"
     ]
    },
    {
     "name": "stderr",
     "output_type": "stream",
     "text": [
      "/usr/local/lib/vmd/vmd_LINUXAMD64: /lib/x86_64-linux-gnu/libGL.so.1: no version information available (required by /usr/local/lib/vmd/vmd_LINUXAMD64)\n",
      "/usr/local/lib/vmd/vmd_LINUXAMD64: /lib/x86_64-linux-gnu/libGL.so.1: no version information available (required by /usr/local/lib/vmd/vmd_LINUXAMD64)\n"
     ]
    },
    {
     "name": "stdout",
     "output_type": "stream",
     "text": [
      "Running the simulation...\n",
      "Computing the Q-value...\n"
     ]
    },
    {
     "name": "stderr",
     "output_type": "stream",
     "text": [
      "/usr/local/lib/vmd/vmd_LINUXAMD64: /lib/x86_64-linux-gnu/libGL.so.1: no version information available (required by /usr/local/lib/vmd/vmd_LINUXAMD64)\n"
     ]
    },
    {
     "name": "stdout",
     "output_type": "stream",
     "text": [
      "9552.046\n",
      "9548.461\n",
      "9548.45\n",
      "9548.45\n",
      "9548.45\n",
      "9548.45\n",
      "9548.45\n",
      "9548.45\n",
      "9548.45\n",
      "9548.45\n",
      "375.38187\n",
      "Guida dice : Perdo fiducia nel Learner\n",
      "s_32_11_36.pdb ha q value pari a 375.38187 \n",
      "Learner : sto ragionando\n",
      "input =  (38, 19)\n",
      "X.shape\t (3, 19)\n",
      "Y.shape\t (3,)\n",
      "la mutazione selezionata è s_32_11_1.pdb\n",
      "epoch 3\n",
      "-----------------------------------Protein s_32_11_1         -----------------------------------\n",
      "Ionizing the structure for the simulation...\n"
     ]
    },
    {
     "name": "stderr",
     "output_type": "stream",
     "text": [
      "mv: cannot stat 'Dif_*.fxout': No such file or directory\n",
      "/usr/local/lib/vmd/vmd_LINUXAMD64: /lib/x86_64-linux-gnu/libGL.so.1: no version information available (required by /usr/local/lib/vmd/vmd_LINUXAMD64)\n",
      "/usr/local/lib/vmd/vmd_LINUXAMD64: /lib/x86_64-linux-gnu/libGL.so.1: no version information available (required by /usr/local/lib/vmd/vmd_LINUXAMD64)\n"
     ]
    },
    {
     "name": "stdout",
     "output_type": "stream",
     "text": [
      "Running the simulation...\n"
     ]
    },
    {
     "name": "stderr",
     "output_type": "stream",
     "text": [
      "Traceback (most recent call last):\n",
      "  File \"launch_simulation.py\", line 22, in <module>\n",
      "    launch_simulation()\n",
      "  File \"launch_simulation.py\", line 20, in launch_simulation\n",
      "    prc = subprocess.run(['setsid namd3 +p2 sample.conf'], shell = True, stdout=buffer_file)\t\t\n",
      "  File \"/usr/lib/python3.8/subprocess.py\", line 495, in run\n",
      "    stdout, stderr = process.communicate(input, timeout=timeout)\n",
      "  File \"/usr/lib/python3.8/subprocess.py\", line 1020, in communicate\n",
      "    self.wait()\n",
      "  File \"/usr/lib/python3.8/subprocess.py\", line 1083, in wait\n",
      "    return self._wait(timeout=timeout)\n",
      "  File \"/usr/lib/python3.8/subprocess.py\", line 1806, in _wait\n",
      "    (pid, sts) = self._try_wait(0)\n",
      "  File \"/usr/lib/python3.8/subprocess.py\", line 1764, in _try_wait\n",
      "    (pid, sts) = os.waitpid(self.pid, wait_flags)\n",
      "KeyboardInterrupt\n"
     ]
    },
    {
     "ename": "KeyboardInterrupt",
     "evalue": "",
     "output_type": "error",
     "traceback": [
      "\u001b[0;31m---------------------------------------------------------------------------\u001b[0m",
      "\u001b[0;31mKeyboardInterrupt\u001b[0m                         Traceback (most recent call last)",
      "Cell \u001b[0;32mIn[53], line 57\u001b[0m\n\u001b[1;32m     54\u001b[0m         \u001b[38;5;28mprint\u001b[39m(\u001b[38;5;124m\"\u001b[39m\u001b[38;5;132;01m%s\u001b[39;00m\u001b[38;5;124m ha q value pari a \u001b[39m\u001b[38;5;132;01m%s\u001b[39;00m\u001b[38;5;124m \u001b[39m\u001b[38;5;124m\"\u001b[39m \u001b[38;5;241m%\u001b[39m (P_new\u001b[38;5;241m.\u001b[39mfilename, P_new\u001b[38;5;241m.\u001b[39mq_value))\n\u001b[1;32m     55\u001b[0m     \u001b[38;5;28;01mreturn\u001b[39;00m P_new\n\u001b[0;32m---> 57\u001b[0m P_new \u001b[38;5;241m=\u001b[39m \u001b[43mmain_loop\u001b[49m\u001b[43m(\u001b[49m\u001b[43m)\u001b[49m\n",
      "Cell \u001b[0;32mIn[53], line 38\u001b[0m, in \u001b[0;36mmain_loop\u001b[0;34m(debug_version)\u001b[0m\n\u001b[1;32m     36\u001b[0m \u001b[38;5;28mprint\u001b[39m(\u001b[38;5;124m\"\u001b[39m\u001b[38;5;124mepoch \u001b[39m\u001b[38;5;132;01m%d\u001b[39;00m\u001b[38;5;124m\"\u001b[39m \u001b[38;5;241m%\u001b[39m i )\n\u001b[1;32m     37\u001b[0m \u001b[38;5;28;01mif\u001b[39;00m \u001b[38;5;129;01mnot\u001b[39;00m debug_version:\n\u001b[0;32m---> 38\u001b[0m     \u001b[43mP_new\u001b[49m\u001b[38;5;241;43m.\u001b[39;49m\u001b[43mcompute_q_value\u001b[49m\u001b[43m(\u001b[49m\u001b[43m)\u001b[49m\n\u001b[1;32m     39\u001b[0m     \u001b[38;5;66;03m# to be implemented:\u001b[39;00m\n\u001b[1;32m     40\u001b[0m     \u001b[38;5;66;03m# delta_q = np.abs(old_qval - P_new.q_value) \u001b[39;00m\n\u001b[1;32m     41\u001b[0m \u001b[38;5;28;01melse\u001b[39;00m:\n\u001b[1;32m     42\u001b[0m     \u001b[38;5;66;03m# sparo a caso un q value\u001b[39;00m\n\u001b[1;32m     43\u001b[0m     P_new\u001b[38;5;241m.\u001b[39mq_value \u001b[38;5;241m=\u001b[39m P\u001b[38;5;241m.\u001b[39mq_value \u001b[38;5;241m+\u001b[39m \u001b[38;5;28mint\u001b[39m( (np\u001b[38;5;241m.\u001b[39mrandom\u001b[38;5;241m.\u001b[39muniform() \u001b[38;5;241m*\u001b[39m \u001b[38;5;241m2\u001b[39m \u001b[38;5;241m-\u001b[39m \u001b[38;5;241m1.\u001b[39m) \u001b[38;5;241m*\u001b[39m \u001b[38;5;241m50\u001b[39m )\n",
      "Cell \u001b[0;32mIn[49], line 41\u001b[0m, in \u001b[0;36mProtein.compute_q_value\u001b[0;34m(self)\u001b[0m\n\u001b[1;32m     38\u001b[0m subprocess\u001b[38;5;241m.\u001b[39mrun([\u001b[38;5;124m\"\u001b[39m\u001b[38;5;124mpython3 protein_ionization.py \u001b[39m\u001b[38;5;124m\"\u001b[39m \u001b[38;5;241m+\u001b[39m \u001b[38;5;28mself\u001b[39m\u001b[38;5;241m.\u001b[39mfilename], shell\u001b[38;5;241m=\u001b[39m\u001b[38;5;28;01mTrue\u001b[39;00m, stdout \u001b[38;5;241m=\u001b[39m subprocess\u001b[38;5;241m.\u001b[39mDEVNULL)\n\u001b[1;32m     40\u001b[0m \u001b[38;5;28mprint\u001b[39m(\u001b[38;5;124m\"\u001b[39m\u001b[38;5;124mRunning the simulation...\u001b[39m\u001b[38;5;124m\"\u001b[39m)\n\u001b[0;32m---> 41\u001b[0m \u001b[43msubprocess\u001b[49m\u001b[38;5;241;43m.\u001b[39;49m\u001b[43mrun\u001b[49m\u001b[43m(\u001b[49m\u001b[43m[\u001b[49m\u001b[38;5;124;43m\"\u001b[39;49m\u001b[38;5;124;43mpython3 launch_simulation.py \u001b[39;49m\u001b[38;5;124;43m\"\u001b[39;49m\u001b[43m \u001b[49m\u001b[38;5;241;43m+\u001b[39;49m\u001b[43m \u001b[49m\u001b[38;5;28;43mself\u001b[39;49m\u001b[38;5;241;43m.\u001b[39;49m\u001b[43mfilename\u001b[49m\u001b[43m \u001b[49m\u001b[43m]\u001b[49m\u001b[43m,\u001b[49m\u001b[43m \u001b[49m\u001b[43mshell\u001b[49m\u001b[38;5;241;43m=\u001b[39;49m\u001b[38;5;28;43;01mTrue\u001b[39;49;00m\u001b[43m,\u001b[49m\u001b[43m \u001b[49m\u001b[43mstdout\u001b[49m\u001b[43m \u001b[49m\u001b[38;5;241;43m=\u001b[39;49m\u001b[43m \u001b[49m\u001b[43msubprocess\u001b[49m\u001b[38;5;241;43m.\u001b[39;49m\u001b[43mDEVNULL\u001b[49m\u001b[43m)\u001b[49m\n\u001b[1;32m     42\u001b[0m \u001b[38;5;28mprint\u001b[39m(\u001b[38;5;124m\"\u001b[39m\u001b[38;5;124mComputing the Q-value...\u001b[39m\u001b[38;5;124m\"\u001b[39m)\n\u001b[1;32m     43\u001b[0m proc \u001b[38;5;241m=\u001b[39m subprocess\u001b[38;5;241m.\u001b[39mrun([\u001b[38;5;124m\"\u001b[39m\u001b[38;5;124mpython3 evaluate_qvalue.py\u001b[39m\u001b[38;5;124m\"\u001b[39m], shell\u001b[38;5;241m=\u001b[39m\u001b[38;5;28;01mTrue\u001b[39;00m, stdout \u001b[38;5;241m=\u001b[39m subprocess\u001b[38;5;241m.\u001b[39mPIPE)\n",
      "File \u001b[0;32m/usr/lib/python3.8/subprocess.py:495\u001b[0m, in \u001b[0;36mrun\u001b[0;34m(input, capture_output, timeout, check, *popenargs, **kwargs)\u001b[0m\n\u001b[1;32m    493\u001b[0m \u001b[38;5;28;01mwith\u001b[39;00m Popen(\u001b[38;5;241m*\u001b[39mpopenargs, \u001b[38;5;241m*\u001b[39m\u001b[38;5;241m*\u001b[39mkwargs) \u001b[38;5;28;01mas\u001b[39;00m process:\n\u001b[1;32m    494\u001b[0m     \u001b[38;5;28;01mtry\u001b[39;00m:\n\u001b[0;32m--> 495\u001b[0m         stdout, stderr \u001b[38;5;241m=\u001b[39m \u001b[43mprocess\u001b[49m\u001b[38;5;241;43m.\u001b[39;49m\u001b[43mcommunicate\u001b[49m\u001b[43m(\u001b[49m\u001b[38;5;28;43minput\u001b[39;49m\u001b[43m,\u001b[49m\u001b[43m \u001b[49m\u001b[43mtimeout\u001b[49m\u001b[38;5;241;43m=\u001b[39;49m\u001b[43mtimeout\u001b[49m\u001b[43m)\u001b[49m\n\u001b[1;32m    496\u001b[0m     \u001b[38;5;28;01mexcept\u001b[39;00m TimeoutExpired \u001b[38;5;28;01mas\u001b[39;00m exc:\n\u001b[1;32m    497\u001b[0m         process\u001b[38;5;241m.\u001b[39mkill()\n",
      "File \u001b[0;32m/usr/lib/python3.8/subprocess.py:1020\u001b[0m, in \u001b[0;36mPopen.communicate\u001b[0;34m(self, input, timeout)\u001b[0m\n\u001b[1;32m   1018\u001b[0m         stderr \u001b[38;5;241m=\u001b[39m \u001b[38;5;28mself\u001b[39m\u001b[38;5;241m.\u001b[39mstderr\u001b[38;5;241m.\u001b[39mread()\n\u001b[1;32m   1019\u001b[0m         \u001b[38;5;28mself\u001b[39m\u001b[38;5;241m.\u001b[39mstderr\u001b[38;5;241m.\u001b[39mclose()\n\u001b[0;32m-> 1020\u001b[0m     \u001b[38;5;28;43mself\u001b[39;49m\u001b[38;5;241;43m.\u001b[39;49m\u001b[43mwait\u001b[49m\u001b[43m(\u001b[49m\u001b[43m)\u001b[49m\n\u001b[1;32m   1021\u001b[0m \u001b[38;5;28;01melse\u001b[39;00m:\n\u001b[1;32m   1022\u001b[0m     \u001b[38;5;28;01mif\u001b[39;00m timeout \u001b[38;5;129;01mis\u001b[39;00m \u001b[38;5;129;01mnot\u001b[39;00m \u001b[38;5;28;01mNone\u001b[39;00m:\n",
      "File \u001b[0;32m/usr/lib/python3.8/subprocess.py:1083\u001b[0m, in \u001b[0;36mPopen.wait\u001b[0;34m(self, timeout)\u001b[0m\n\u001b[1;32m   1081\u001b[0m     endtime \u001b[38;5;241m=\u001b[39m _time() \u001b[38;5;241m+\u001b[39m timeout\n\u001b[1;32m   1082\u001b[0m \u001b[38;5;28;01mtry\u001b[39;00m:\n\u001b[0;32m-> 1083\u001b[0m     \u001b[38;5;28;01mreturn\u001b[39;00m \u001b[38;5;28;43mself\u001b[39;49m\u001b[38;5;241;43m.\u001b[39;49m\u001b[43m_wait\u001b[49m\u001b[43m(\u001b[49m\u001b[43mtimeout\u001b[49m\u001b[38;5;241;43m=\u001b[39;49m\u001b[43mtimeout\u001b[49m\u001b[43m)\u001b[49m\n\u001b[1;32m   1084\u001b[0m \u001b[38;5;28;01mexcept\u001b[39;00m \u001b[38;5;167;01mKeyboardInterrupt\u001b[39;00m:\n\u001b[1;32m   1085\u001b[0m     \u001b[38;5;66;03m# https://bugs.python.org/issue25942\u001b[39;00m\n\u001b[1;32m   1086\u001b[0m     \u001b[38;5;66;03m# The first keyboard interrupt waits briefly for the child to\u001b[39;00m\n\u001b[1;32m   1087\u001b[0m     \u001b[38;5;66;03m# exit under the common assumption that it also received the ^C\u001b[39;00m\n\u001b[1;32m   1088\u001b[0m     \u001b[38;5;66;03m# generated SIGINT and will exit rapidly.\u001b[39;00m\n\u001b[1;32m   1089\u001b[0m     \u001b[38;5;28;01mif\u001b[39;00m timeout \u001b[38;5;129;01mis\u001b[39;00m \u001b[38;5;129;01mnot\u001b[39;00m \u001b[38;5;28;01mNone\u001b[39;00m:\n",
      "File \u001b[0;32m/usr/lib/python3.8/subprocess.py:1806\u001b[0m, in \u001b[0;36mPopen._wait\u001b[0;34m(self, timeout)\u001b[0m\n\u001b[1;32m   1804\u001b[0m \u001b[38;5;28;01mif\u001b[39;00m \u001b[38;5;28mself\u001b[39m\u001b[38;5;241m.\u001b[39mreturncode \u001b[38;5;129;01mis\u001b[39;00m \u001b[38;5;129;01mnot\u001b[39;00m \u001b[38;5;28;01mNone\u001b[39;00m:\n\u001b[1;32m   1805\u001b[0m     \u001b[38;5;28;01mbreak\u001b[39;00m  \u001b[38;5;66;03m# Another thread waited.\u001b[39;00m\n\u001b[0;32m-> 1806\u001b[0m (pid, sts) \u001b[38;5;241m=\u001b[39m \u001b[38;5;28;43mself\u001b[39;49m\u001b[38;5;241;43m.\u001b[39;49m\u001b[43m_try_wait\u001b[49m\u001b[43m(\u001b[49m\u001b[38;5;241;43m0\u001b[39;49m\u001b[43m)\u001b[49m\n\u001b[1;32m   1807\u001b[0m \u001b[38;5;66;03m# Check the pid and loop as waitpid has been known to\u001b[39;00m\n\u001b[1;32m   1808\u001b[0m \u001b[38;5;66;03m# return 0 even without WNOHANG in odd situations.\u001b[39;00m\n\u001b[1;32m   1809\u001b[0m \u001b[38;5;66;03m# http://bugs.python.org/issue14396.\u001b[39;00m\n\u001b[1;32m   1810\u001b[0m \u001b[38;5;28;01mif\u001b[39;00m pid \u001b[38;5;241m==\u001b[39m \u001b[38;5;28mself\u001b[39m\u001b[38;5;241m.\u001b[39mpid:\n",
      "File \u001b[0;32m/usr/lib/python3.8/subprocess.py:1764\u001b[0m, in \u001b[0;36mPopen._try_wait\u001b[0;34m(self, wait_flags)\u001b[0m\n\u001b[1;32m   1762\u001b[0m \u001b[38;5;250m\u001b[39m\u001b[38;5;124;03m\"\"\"All callers to this function MUST hold self._waitpid_lock.\"\"\"\u001b[39;00m\n\u001b[1;32m   1763\u001b[0m \u001b[38;5;28;01mtry\u001b[39;00m:\n\u001b[0;32m-> 1764\u001b[0m     (pid, sts) \u001b[38;5;241m=\u001b[39m \u001b[43mos\u001b[49m\u001b[38;5;241;43m.\u001b[39;49m\u001b[43mwaitpid\u001b[49m\u001b[43m(\u001b[49m\u001b[38;5;28;43mself\u001b[39;49m\u001b[38;5;241;43m.\u001b[39;49m\u001b[43mpid\u001b[49m\u001b[43m,\u001b[49m\u001b[43m \u001b[49m\u001b[43mwait_flags\u001b[49m\u001b[43m)\u001b[49m\n\u001b[1;32m   1765\u001b[0m \u001b[38;5;28;01mexcept\u001b[39;00m \u001b[38;5;167;01mChildProcessError\u001b[39;00m:\n\u001b[1;32m   1766\u001b[0m     \u001b[38;5;66;03m# This happens if SIGCLD is set to be ignored or waiting\u001b[39;00m\n\u001b[1;32m   1767\u001b[0m     \u001b[38;5;66;03m# for child processes has otherwise been disabled for our\u001b[39;00m\n\u001b[1;32m   1768\u001b[0m     \u001b[38;5;66;03m# process.  This child is dead, we can't get the status.\u001b[39;00m\n\u001b[1;32m   1769\u001b[0m     pid \u001b[38;5;241m=\u001b[39m \u001b[38;5;28mself\u001b[39m\u001b[38;5;241m.\u001b[39mpid\n",
      "\u001b[0;31mKeyboardInterrupt\u001b[0m: "
     ]
    }
   ],
   "source": [
    "def main_loop(debug_version = False):\n",
    "    P   =  P_0  = Protein(\"s.pdb\")         # genero l oggetto proteina\n",
    "    print(P.filename[:-4])\n",
    "    print(\"calculating q value of starting protein...\")\n",
    "    if not debug_version:\n",
    "        #P.compute_q_value() # commment this to avoid  a simulation at the beginning\n",
    "        P.q_value = 402\n",
    "    else:\n",
    "        P.q_value = 402\n",
    "    \n",
    "    print(\"%s ha q value pari a %s \" % (P.filename, P.q_value))\n",
    "\n",
    "    L           = Learner()\n",
    "    G           = Guide()\n",
    "    # genero il csv che descrive i pacchetti di informazine associati ai vicini sul lattice delle permutazioni\n",
    "    # costruisco le tabelle a partire dal csv appena generato\n",
    "    epochs = 30\n",
    "    proteina_nuova = True\n",
    "    #thresholds = np.linspace(1.5, 1., int((1.5 - 1.) / 0.05 + 1))\n",
    "    for i in range(epochs):\n",
    "        if proteina_nuova:\n",
    "            print(\"Obtaining neighbours info...\")\n",
    "            if not debug_version:\n",
    "                P.build_neighbors_on_mutation_lattice(1)\n",
    "            else:\n",
    "                0 # mutations.csv è gia presente\n",
    "            proteina_nuova = False\n",
    "        M,I = P.build_information_tables()\n",
    "        scores = L.predict(I)\n",
    "        choice = G.choose(scores)\n",
    "        selected_mutation             = '.'.join(M[choice].split(\".\")[:2])\n",
    "        print(\"la mutazione selezionata è %s\" % selected_mutation)\n",
    "        selected_mutation_information = I[choice]\n",
    "        P_new = Protein(selected_mutation)\n",
    "        old_qval = P.q_value \n",
    "        print(\"epoch %d\" % i )\n",
    "        if not debug_version:\n",
    "            P_new.compute_q_value()\n",
    "            # to be implemented:\n",
    "            # delta_q = np.abs(old_qval - P_new.q_value) \n",
    "        else:\n",
    "            # sparo a caso un q value\n",
    "            P_new.q_value = P.q_value + int( (np.random.uniform() * 2 - 1.) * 50 )\n",
    "        if P_new.q_value <= P.q_value:\n",
    "            proteina_nuova = True\n",
    "            if P_new.q_value < P.q_value:\n",
    "                G.trust()\n",
    "            P = P_new\n",
    "        else:\n",
    "            G.untrust()\n",
    "        # I let the learner lear about the association\n",
    "        L.learn(selected_mutation_information, P_new.q_value)\n",
    "        \n",
    "        print(\"%s ha q value pari a %s \" % (P_new.filename, P_new.q_value))\n",
    "    return P_new\n",
    "    \n",
    "P_new = main_loop()"
   ]
  }
 ],
 "metadata": {
  "kernelspec": {
   "display_name": "Python 2",
   "language": "python",
   "name": "python2"
  },
  "language_info": {
   "codemirror_mode": {
    "name": "ipython",
    "version": 3
   },
   "file_extension": ".py",
   "mimetype": "text/x-python",
   "name": "python",
   "nbconvert_exporter": "python",
   "pygments_lexer": "ipython3",
   "version": "3.8.10"
  }
 },
 "nbformat": 4,
 "nbformat_minor": 5
}
